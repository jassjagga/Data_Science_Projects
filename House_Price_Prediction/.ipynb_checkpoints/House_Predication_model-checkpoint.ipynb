{
 "cells": [
  {
   "cell_type": "code",
   "execution_count": 1,
   "id": "5a4051f0",
   "metadata": {},
   "outputs": [],
   "source": [
    "#Some important libraries we need\n",
    "import pandas as pd\n",
    "import matplotlib.pyplot as plt\n",
    "import numpy as np \n",
    "%matplotlib inline"
   ]
  },
  {
   "cell_type": "code",
   "execution_count": 2,
   "id": "a998c09c",
   "metadata": {
    "scrolled": true
   },
   "outputs": [
    {
     "data": {
      "text/html": [
       "<div>\n",
       "<style scoped>\n",
       "    .dataframe tbody tr th:only-of-type {\n",
       "        vertical-align: middle;\n",
       "    }\n",
       "\n",
       "    .dataframe tbody tr th {\n",
       "        vertical-align: top;\n",
       "    }\n",
       "\n",
       "    .dataframe thead th {\n",
       "        text-align: right;\n",
       "    }\n",
       "</style>\n",
       "<table border=\"1\" class=\"dataframe\">\n",
       "  <thead>\n",
       "    <tr style=\"text-align: right;\">\n",
       "      <th></th>\n",
       "      <th>Id</th>\n",
       "      <th>MSSubClass</th>\n",
       "      <th>MSZoning</th>\n",
       "      <th>LotFrontage</th>\n",
       "      <th>LotArea</th>\n",
       "      <th>Street</th>\n",
       "      <th>Alley</th>\n",
       "      <th>LotShape</th>\n",
       "      <th>LandContour</th>\n",
       "      <th>Utilities</th>\n",
       "      <th>...</th>\n",
       "      <th>PoolArea</th>\n",
       "      <th>PoolQC</th>\n",
       "      <th>Fence</th>\n",
       "      <th>MiscFeature</th>\n",
       "      <th>MiscVal</th>\n",
       "      <th>MoSold</th>\n",
       "      <th>YrSold</th>\n",
       "      <th>SaleType</th>\n",
       "      <th>SaleCondition</th>\n",
       "      <th>SalePrice</th>\n",
       "    </tr>\n",
       "  </thead>\n",
       "  <tbody>\n",
       "    <tr>\n",
       "      <th>0</th>\n",
       "      <td>1</td>\n",
       "      <td>60</td>\n",
       "      <td>RL</td>\n",
       "      <td>65.0</td>\n",
       "      <td>8450</td>\n",
       "      <td>Pave</td>\n",
       "      <td>NaN</td>\n",
       "      <td>Reg</td>\n",
       "      <td>Lvl</td>\n",
       "      <td>AllPub</td>\n",
       "      <td>...</td>\n",
       "      <td>0</td>\n",
       "      <td>NaN</td>\n",
       "      <td>NaN</td>\n",
       "      <td>NaN</td>\n",
       "      <td>0</td>\n",
       "      <td>2</td>\n",
       "      <td>2008</td>\n",
       "      <td>WD</td>\n",
       "      <td>Normal</td>\n",
       "      <td>208500</td>\n",
       "    </tr>\n",
       "    <tr>\n",
       "      <th>1</th>\n",
       "      <td>2</td>\n",
       "      <td>20</td>\n",
       "      <td>RL</td>\n",
       "      <td>80.0</td>\n",
       "      <td>9600</td>\n",
       "      <td>Pave</td>\n",
       "      <td>NaN</td>\n",
       "      <td>Reg</td>\n",
       "      <td>Lvl</td>\n",
       "      <td>AllPub</td>\n",
       "      <td>...</td>\n",
       "      <td>0</td>\n",
       "      <td>NaN</td>\n",
       "      <td>NaN</td>\n",
       "      <td>NaN</td>\n",
       "      <td>0</td>\n",
       "      <td>5</td>\n",
       "      <td>2007</td>\n",
       "      <td>WD</td>\n",
       "      <td>Normal</td>\n",
       "      <td>181500</td>\n",
       "    </tr>\n",
       "    <tr>\n",
       "      <th>2</th>\n",
       "      <td>3</td>\n",
       "      <td>60</td>\n",
       "      <td>RL</td>\n",
       "      <td>68.0</td>\n",
       "      <td>11250</td>\n",
       "      <td>Pave</td>\n",
       "      <td>NaN</td>\n",
       "      <td>IR1</td>\n",
       "      <td>Lvl</td>\n",
       "      <td>AllPub</td>\n",
       "      <td>...</td>\n",
       "      <td>0</td>\n",
       "      <td>NaN</td>\n",
       "      <td>NaN</td>\n",
       "      <td>NaN</td>\n",
       "      <td>0</td>\n",
       "      <td>9</td>\n",
       "      <td>2008</td>\n",
       "      <td>WD</td>\n",
       "      <td>Normal</td>\n",
       "      <td>223500</td>\n",
       "    </tr>\n",
       "    <tr>\n",
       "      <th>3</th>\n",
       "      <td>4</td>\n",
       "      <td>70</td>\n",
       "      <td>RL</td>\n",
       "      <td>60.0</td>\n",
       "      <td>9550</td>\n",
       "      <td>Pave</td>\n",
       "      <td>NaN</td>\n",
       "      <td>IR1</td>\n",
       "      <td>Lvl</td>\n",
       "      <td>AllPub</td>\n",
       "      <td>...</td>\n",
       "      <td>0</td>\n",
       "      <td>NaN</td>\n",
       "      <td>NaN</td>\n",
       "      <td>NaN</td>\n",
       "      <td>0</td>\n",
       "      <td>2</td>\n",
       "      <td>2006</td>\n",
       "      <td>WD</td>\n",
       "      <td>Abnorml</td>\n",
       "      <td>140000</td>\n",
       "    </tr>\n",
       "    <tr>\n",
       "      <th>4</th>\n",
       "      <td>5</td>\n",
       "      <td>60</td>\n",
       "      <td>RL</td>\n",
       "      <td>84.0</td>\n",
       "      <td>14260</td>\n",
       "      <td>Pave</td>\n",
       "      <td>NaN</td>\n",
       "      <td>IR1</td>\n",
       "      <td>Lvl</td>\n",
       "      <td>AllPub</td>\n",
       "      <td>...</td>\n",
       "      <td>0</td>\n",
       "      <td>NaN</td>\n",
       "      <td>NaN</td>\n",
       "      <td>NaN</td>\n",
       "      <td>0</td>\n",
       "      <td>12</td>\n",
       "      <td>2008</td>\n",
       "      <td>WD</td>\n",
       "      <td>Normal</td>\n",
       "      <td>250000</td>\n",
       "    </tr>\n",
       "  </tbody>\n",
       "</table>\n",
       "<p>5 rows × 81 columns</p>\n",
       "</div>"
      ],
      "text/plain": [
       "   Id  MSSubClass MSZoning  LotFrontage  LotArea Street Alley LotShape  \\\n",
       "0   1          60       RL         65.0     8450   Pave   NaN      Reg   \n",
       "1   2          20       RL         80.0     9600   Pave   NaN      Reg   \n",
       "2   3          60       RL         68.0    11250   Pave   NaN      IR1   \n",
       "3   4          70       RL         60.0     9550   Pave   NaN      IR1   \n",
       "4   5          60       RL         84.0    14260   Pave   NaN      IR1   \n",
       "\n",
       "  LandContour Utilities  ... PoolArea PoolQC Fence MiscFeature MiscVal MoSold  \\\n",
       "0         Lvl    AllPub  ...        0    NaN   NaN         NaN       0      2   \n",
       "1         Lvl    AllPub  ...        0    NaN   NaN         NaN       0      5   \n",
       "2         Lvl    AllPub  ...        0    NaN   NaN         NaN       0      9   \n",
       "3         Lvl    AllPub  ...        0    NaN   NaN         NaN       0      2   \n",
       "4         Lvl    AllPub  ...        0    NaN   NaN         NaN       0     12   \n",
       "\n",
       "  YrSold  SaleType  SaleCondition  SalePrice  \n",
       "0   2008        WD         Normal     208500  \n",
       "1   2007        WD         Normal     181500  \n",
       "2   2008        WD         Normal     223500  \n",
       "3   2006        WD        Abnorml     140000  \n",
       "4   2008        WD         Normal     250000  \n",
       "\n",
       "[5 rows x 81 columns]"
      ]
     },
     "execution_count": 2,
     "metadata": {},
     "output_type": "execute_result"
    }
   ],
   "source": [
    "train_df=pd.read_csv(\"train.csv\")\n",
    "train_df.head()"
   ]
  },
  {
   "cell_type": "code",
   "execution_count": 3,
   "id": "67b34ec6",
   "metadata": {},
   "outputs": [
    {
     "data": {
      "text/plain": [
       "(1460, 81)"
      ]
     },
     "execution_count": 3,
     "metadata": {},
     "output_type": "execute_result"
    }
   ],
   "source": [
    "train_df.shape"
   ]
  },
  {
   "cell_type": "code",
   "execution_count": 4,
   "id": "905dc7c4",
   "metadata": {},
   "outputs": [
    {
     "data": {
      "text/html": [
       "<div>\n",
       "<style scoped>\n",
       "    .dataframe tbody tr th:only-of-type {\n",
       "        vertical-align: middle;\n",
       "    }\n",
       "\n",
       "    .dataframe tbody tr th {\n",
       "        vertical-align: top;\n",
       "    }\n",
       "\n",
       "    .dataframe thead th {\n",
       "        text-align: right;\n",
       "    }\n",
       "</style>\n",
       "<table border=\"1\" class=\"dataframe\">\n",
       "  <thead>\n",
       "    <tr style=\"text-align: right;\">\n",
       "      <th></th>\n",
       "      <th>LotArea</th>\n",
       "      <th>Neighborhood</th>\n",
       "      <th>HouseStyle</th>\n",
       "      <th>FullBath</th>\n",
       "      <th>BedroomAbvGr</th>\n",
       "      <th>SalePrice</th>\n",
       "    </tr>\n",
       "  </thead>\n",
       "  <tbody>\n",
       "    <tr>\n",
       "      <th>0</th>\n",
       "      <td>8450</td>\n",
       "      <td>CollgCr</td>\n",
       "      <td>2Story</td>\n",
       "      <td>2</td>\n",
       "      <td>3</td>\n",
       "      <td>208500</td>\n",
       "    </tr>\n",
       "    <tr>\n",
       "      <th>1</th>\n",
       "      <td>9600</td>\n",
       "      <td>Veenker</td>\n",
       "      <td>1Story</td>\n",
       "      <td>2</td>\n",
       "      <td>3</td>\n",
       "      <td>181500</td>\n",
       "    </tr>\n",
       "    <tr>\n",
       "      <th>2</th>\n",
       "      <td>11250</td>\n",
       "      <td>CollgCr</td>\n",
       "      <td>2Story</td>\n",
       "      <td>2</td>\n",
       "      <td>3</td>\n",
       "      <td>223500</td>\n",
       "    </tr>\n",
       "    <tr>\n",
       "      <th>3</th>\n",
       "      <td>9550</td>\n",
       "      <td>Crawfor</td>\n",
       "      <td>2Story</td>\n",
       "      <td>1</td>\n",
       "      <td>3</td>\n",
       "      <td>140000</td>\n",
       "    </tr>\n",
       "    <tr>\n",
       "      <th>4</th>\n",
       "      <td>14260</td>\n",
       "      <td>NoRidge</td>\n",
       "      <td>2Story</td>\n",
       "      <td>2</td>\n",
       "      <td>4</td>\n",
       "      <td>250000</td>\n",
       "    </tr>\n",
       "  </tbody>\n",
       "</table>\n",
       "</div>"
      ],
      "text/plain": [
       "   LotArea Neighborhood HouseStyle  FullBath  BedroomAbvGr  SalePrice\n",
       "0     8450      CollgCr     2Story         2             3     208500\n",
       "1     9600      Veenker     1Story         2             3     181500\n",
       "2    11250      CollgCr     2Story         2             3     223500\n",
       "3     9550      Crawfor     2Story         1             3     140000\n",
       "4    14260      NoRidge     2Story         2             4     250000"
      ]
     },
     "execution_count": 4,
     "metadata": {},
     "output_type": "execute_result"
    }
   ],
   "source": [
    "t_df1=train_df[[\"LotArea\",\"Neighborhood\",\"HouseStyle\",\"FullBath\",\"BedroomAbvGr\",\"SalePrice\"]].copy()\n",
    "t_df1.head()"
   ]
  },
  {
   "cell_type": "code",
   "execution_count": 5,
   "id": "1559984e",
   "metadata": {},
   "outputs": [
    {
     "data": {
      "text/plain": [
       "Neighborhood\n",
       "Blmngtn     17\n",
       "Blueste      2\n",
       "BrDale      16\n",
       "BrkSide     58\n",
       "ClearCr     28\n",
       "CollgCr    150\n",
       "Crawfor     51\n",
       "Edwards    100\n",
       "Gilbert     79\n",
       "IDOTRR      37\n",
       "MeadowV     17\n",
       "Mitchel     49\n",
       "NAmes      225\n",
       "NPkVill      9\n",
       "NWAmes      73\n",
       "NoRidge     41\n",
       "NridgHt     77\n",
       "OldTown    113\n",
       "SWISU       25\n",
       "Sawyer      74\n",
       "SawyerW     59\n",
       "Somerst     86\n",
       "StoneBr     25\n",
       "Timber      38\n",
       "Veenker     11\n",
       "Name: Neighborhood, dtype: int64"
      ]
     },
     "execution_count": 5,
     "metadata": {},
     "output_type": "execute_result"
    }
   ],
   "source": [
    "t_df1.groupby(\"Neighborhood\")[\"Neighborhood\"].agg(\"count\")"
   ]
  },
  {
   "cell_type": "code",
   "execution_count": 6,
   "id": "994f6e11",
   "metadata": {},
   "outputs": [
    {
     "data": {
      "text/plain": [
       "LotArea         0\n",
       "Neighborhood    0\n",
       "HouseStyle      0\n",
       "FullBath        0\n",
       "BedroomAbvGr    0\n",
       "SalePrice       0\n",
       "dtype: int64"
      ]
     },
     "execution_count": 6,
     "metadata": {},
     "output_type": "execute_result"
    }
   ],
   "source": [
    "t_df1.isnull().sum()"
   ]
  },
  {
   "cell_type": "code",
   "execution_count": 7,
   "id": "abcc60d8",
   "metadata": {
    "scrolled": false
   },
   "outputs": [
    {
     "data": {
      "text/plain": [
       "array(['2Story', '1Story', '1.5Fin', '1.5Unf', 'SFoyer', 'SLvl', '2.5Unf',\n",
       "       '2.5Fin'], dtype=object)"
      ]
     },
     "execution_count": 7,
     "metadata": {},
     "output_type": "execute_result"
    }
   ],
   "source": [
    "t_df1[\"HouseStyle\"].unique()"
   ]
  },
  {
   "cell_type": "code",
   "execution_count": 8,
   "id": "b422f11f",
   "metadata": {},
   "outputs": [
    {
     "data": {
      "text/plain": [
       "HouseStyle\n",
       "1.5Fin    154\n",
       "1.5Unf     14\n",
       "1Story    726\n",
       "2.5Fin      8\n",
       "2.5Unf     11\n",
       "2Story    445\n",
       "SFoyer     37\n",
       "SLvl       65\n",
       "Name: HouseStyle, dtype: int64"
      ]
     },
     "execution_count": 8,
     "metadata": {},
     "output_type": "execute_result"
    }
   ],
   "source": [
    "t_df1.groupby(\"HouseStyle\")[\"HouseStyle\"].agg(\"count\")"
   ]
  },
  {
   "cell_type": "code",
   "execution_count": 9,
   "id": "45315014",
   "metadata": {},
   "outputs": [
    {
     "data": {
      "text/plain": [
       "0    2Story\n",
       "1    1Story\n",
       "2    2Story\n",
       "3    2Story\n",
       "4    2Story\n",
       "Name: HouseStyle, dtype: object"
      ]
     },
     "execution_count": 9,
     "metadata": {},
     "output_type": "execute_result"
    }
   ],
   "source": [
    "tem=t_df1.HouseStyle\n",
    "tem.head()"
   ]
  },
  {
   "cell_type": "code",
   "execution_count": 10,
   "id": "38ef0932",
   "metadata": {},
   "outputs": [],
   "source": [
    "def splitl(words):\n",
    "    return list(words)"
   ]
  },
  {
   "cell_type": "code",
   "execution_count": 11,
   "id": "13578557",
   "metadata": {},
   "outputs": [],
   "source": [
    "tem1=[]\n",
    "for x in range(len(tem)):\n",
    "    tem1.append(splitl(tem[x])[0])\n",
    "   \n",
    "    "
   ]
  },
  {
   "cell_type": "code",
   "execution_count": null,
   "id": "e70e9cd8",
   "metadata": {},
   "outputs": [],
   "source": []
  },
  {
   "cell_type": "code",
   "execution_count": 12,
   "id": "b9a8262a",
   "metadata": {},
   "outputs": [],
   "source": [
    "t_df1[\"House_Storys\"]=tem1"
   ]
  },
  {
   "cell_type": "code",
   "execution_count": 13,
   "id": "cd7e161e",
   "metadata": {},
   "outputs": [
    {
     "data": {
      "text/html": [
       "<div>\n",
       "<style scoped>\n",
       "    .dataframe tbody tr th:only-of-type {\n",
       "        vertical-align: middle;\n",
       "    }\n",
       "\n",
       "    .dataframe tbody tr th {\n",
       "        vertical-align: top;\n",
       "    }\n",
       "\n",
       "    .dataframe thead th {\n",
       "        text-align: right;\n",
       "    }\n",
       "</style>\n",
       "<table border=\"1\" class=\"dataframe\">\n",
       "  <thead>\n",
       "    <tr style=\"text-align: right;\">\n",
       "      <th></th>\n",
       "      <th>LotArea</th>\n",
       "      <th>Neighborhood</th>\n",
       "      <th>HouseStyle</th>\n",
       "      <th>FullBath</th>\n",
       "      <th>BedroomAbvGr</th>\n",
       "      <th>SalePrice</th>\n",
       "      <th>House_Storys</th>\n",
       "    </tr>\n",
       "  </thead>\n",
       "  <tbody>\n",
       "    <tr>\n",
       "      <th>0</th>\n",
       "      <td>8450</td>\n",
       "      <td>CollgCr</td>\n",
       "      <td>2Story</td>\n",
       "      <td>2</td>\n",
       "      <td>3</td>\n",
       "      <td>208500</td>\n",
       "      <td>2</td>\n",
       "    </tr>\n",
       "    <tr>\n",
       "      <th>1</th>\n",
       "      <td>9600</td>\n",
       "      <td>Veenker</td>\n",
       "      <td>1Story</td>\n",
       "      <td>2</td>\n",
       "      <td>3</td>\n",
       "      <td>181500</td>\n",
       "      <td>1</td>\n",
       "    </tr>\n",
       "    <tr>\n",
       "      <th>2</th>\n",
       "      <td>11250</td>\n",
       "      <td>CollgCr</td>\n",
       "      <td>2Story</td>\n",
       "      <td>2</td>\n",
       "      <td>3</td>\n",
       "      <td>223500</td>\n",
       "      <td>2</td>\n",
       "    </tr>\n",
       "    <tr>\n",
       "      <th>3</th>\n",
       "      <td>9550</td>\n",
       "      <td>Crawfor</td>\n",
       "      <td>2Story</td>\n",
       "      <td>1</td>\n",
       "      <td>3</td>\n",
       "      <td>140000</td>\n",
       "      <td>2</td>\n",
       "    </tr>\n",
       "    <tr>\n",
       "      <th>4</th>\n",
       "      <td>14260</td>\n",
       "      <td>NoRidge</td>\n",
       "      <td>2Story</td>\n",
       "      <td>2</td>\n",
       "      <td>4</td>\n",
       "      <td>250000</td>\n",
       "      <td>2</td>\n",
       "    </tr>\n",
       "  </tbody>\n",
       "</table>\n",
       "</div>"
      ],
      "text/plain": [
       "   LotArea Neighborhood HouseStyle  FullBath  BedroomAbvGr  SalePrice  \\\n",
       "0     8450      CollgCr     2Story         2             3     208500   \n",
       "1     9600      Veenker     1Story         2             3     181500   \n",
       "2    11250      CollgCr     2Story         2             3     223500   \n",
       "3     9550      Crawfor     2Story         1             3     140000   \n",
       "4    14260      NoRidge     2Story         2             4     250000   \n",
       "\n",
       "  House_Storys  \n",
       "0            2  \n",
       "1            1  \n",
       "2            2  \n",
       "3            2  \n",
       "4            2  "
      ]
     },
     "execution_count": 13,
     "metadata": {},
     "output_type": "execute_result"
    }
   ],
   "source": [
    "t_df1.head()"
   ]
  },
  {
   "cell_type": "code",
   "execution_count": 14,
   "id": "efeb38dc",
   "metadata": {},
   "outputs": [
    {
     "data": {
      "text/plain": [
       "House_Storys\n",
       "1    894\n",
       "2    464\n",
       "S    102\n",
       "Name: House_Storys, dtype: int64"
      ]
     },
     "execution_count": 14,
     "metadata": {},
     "output_type": "execute_result"
    }
   ],
   "source": [
    "t_df1.groupby(\"House_Storys\")[\"House_Storys\"].agg(\"count\")"
   ]
  },
  {
   "cell_type": "code",
   "execution_count": 15,
   "id": "c5dab56d",
   "metadata": {},
   "outputs": [],
   "source": [
    "df=t_df1[t_df1.House_Storys != \"S\"]"
   ]
  },
  {
   "cell_type": "code",
   "execution_count": 16,
   "id": "57d00b91",
   "metadata": {},
   "outputs": [
    {
     "data": {
      "text/html": [
       "<div>\n",
       "<style scoped>\n",
       "    .dataframe tbody tr th:only-of-type {\n",
       "        vertical-align: middle;\n",
       "    }\n",
       "\n",
       "    .dataframe tbody tr th {\n",
       "        vertical-align: top;\n",
       "    }\n",
       "\n",
       "    .dataframe thead th {\n",
       "        text-align: right;\n",
       "    }\n",
       "</style>\n",
       "<table border=\"1\" class=\"dataframe\">\n",
       "  <thead>\n",
       "    <tr style=\"text-align: right;\">\n",
       "      <th></th>\n",
       "      <th>LotArea</th>\n",
       "      <th>Neighborhood</th>\n",
       "      <th>HouseStyle</th>\n",
       "      <th>FullBath</th>\n",
       "      <th>BedroomAbvGr</th>\n",
       "      <th>SalePrice</th>\n",
       "      <th>House_Storys</th>\n",
       "    </tr>\n",
       "  </thead>\n",
       "  <tbody>\n",
       "    <tr>\n",
       "      <th>0</th>\n",
       "      <td>8450</td>\n",
       "      <td>CollgCr</td>\n",
       "      <td>2Story</td>\n",
       "      <td>2</td>\n",
       "      <td>3</td>\n",
       "      <td>208500</td>\n",
       "      <td>2</td>\n",
       "    </tr>\n",
       "    <tr>\n",
       "      <th>1</th>\n",
       "      <td>9600</td>\n",
       "      <td>Veenker</td>\n",
       "      <td>1Story</td>\n",
       "      <td>2</td>\n",
       "      <td>3</td>\n",
       "      <td>181500</td>\n",
       "      <td>1</td>\n",
       "    </tr>\n",
       "    <tr>\n",
       "      <th>2</th>\n",
       "      <td>11250</td>\n",
       "      <td>CollgCr</td>\n",
       "      <td>2Story</td>\n",
       "      <td>2</td>\n",
       "      <td>3</td>\n",
       "      <td>223500</td>\n",
       "      <td>2</td>\n",
       "    </tr>\n",
       "    <tr>\n",
       "      <th>3</th>\n",
       "      <td>9550</td>\n",
       "      <td>Crawfor</td>\n",
       "      <td>2Story</td>\n",
       "      <td>1</td>\n",
       "      <td>3</td>\n",
       "      <td>140000</td>\n",
       "      <td>2</td>\n",
       "    </tr>\n",
       "    <tr>\n",
       "      <th>4</th>\n",
       "      <td>14260</td>\n",
       "      <td>NoRidge</td>\n",
       "      <td>2Story</td>\n",
       "      <td>2</td>\n",
       "      <td>4</td>\n",
       "      <td>250000</td>\n",
       "      <td>2</td>\n",
       "    </tr>\n",
       "  </tbody>\n",
       "</table>\n",
       "</div>"
      ],
      "text/plain": [
       "   LotArea Neighborhood HouseStyle  FullBath  BedroomAbvGr  SalePrice  \\\n",
       "0     8450      CollgCr     2Story         2             3     208500   \n",
       "1     9600      Veenker     1Story         2             3     181500   \n",
       "2    11250      CollgCr     2Story         2             3     223500   \n",
       "3     9550      Crawfor     2Story         1             3     140000   \n",
       "4    14260      NoRidge     2Story         2             4     250000   \n",
       "\n",
       "  House_Storys  \n",
       "0            2  \n",
       "1            1  \n",
       "2            2  \n",
       "3            2  \n",
       "4            2  "
      ]
     },
     "execution_count": 16,
     "metadata": {},
     "output_type": "execute_result"
    }
   ],
   "source": [
    "df.head()"
   ]
  },
  {
   "cell_type": "code",
   "execution_count": 17,
   "id": "df9c9c7c",
   "metadata": {},
   "outputs": [
    {
     "data": {
      "text/plain": [
       "(1358, 7)"
      ]
     },
     "execution_count": 17,
     "metadata": {},
     "output_type": "execute_result"
    }
   ],
   "source": [
    "df.shape"
   ]
  },
  {
   "cell_type": "code",
   "execution_count": 18,
   "id": "db159a29",
   "metadata": {},
   "outputs": [
    {
     "data": {
      "text/plain": [
       "House_Storys\n",
       "1    894\n",
       "2    464\n",
       "Name: House_Storys, dtype: int64"
      ]
     },
     "execution_count": 18,
     "metadata": {},
     "output_type": "execute_result"
    }
   ],
   "source": [
    "df.groupby(\"House_Storys\")[\"House_Storys\"].agg(\"count\")"
   ]
  },
  {
   "cell_type": "code",
   "execution_count": 19,
   "id": "77f4c459",
   "metadata": {},
   "outputs": [],
   "source": [
    "df =df.drop(\"HouseStyle\",axis=\"columns\")"
   ]
  },
  {
   "cell_type": "code",
   "execution_count": 20,
   "id": "39d20e41",
   "metadata": {},
   "outputs": [
    {
     "data": {
      "text/html": [
       "<div>\n",
       "<style scoped>\n",
       "    .dataframe tbody tr th:only-of-type {\n",
       "        vertical-align: middle;\n",
       "    }\n",
       "\n",
       "    .dataframe tbody tr th {\n",
       "        vertical-align: top;\n",
       "    }\n",
       "\n",
       "    .dataframe thead th {\n",
       "        text-align: right;\n",
       "    }\n",
       "</style>\n",
       "<table border=\"1\" class=\"dataframe\">\n",
       "  <thead>\n",
       "    <tr style=\"text-align: right;\">\n",
       "      <th></th>\n",
       "      <th>LotArea</th>\n",
       "      <th>Neighborhood</th>\n",
       "      <th>FullBath</th>\n",
       "      <th>BedroomAbvGr</th>\n",
       "      <th>SalePrice</th>\n",
       "      <th>House_Storys</th>\n",
       "    </tr>\n",
       "  </thead>\n",
       "  <tbody>\n",
       "    <tr>\n",
       "      <th>0</th>\n",
       "      <td>8450</td>\n",
       "      <td>CollgCr</td>\n",
       "      <td>2</td>\n",
       "      <td>3</td>\n",
       "      <td>208500</td>\n",
       "      <td>2</td>\n",
       "    </tr>\n",
       "    <tr>\n",
       "      <th>1</th>\n",
       "      <td>9600</td>\n",
       "      <td>Veenker</td>\n",
       "      <td>2</td>\n",
       "      <td>3</td>\n",
       "      <td>181500</td>\n",
       "      <td>1</td>\n",
       "    </tr>\n",
       "    <tr>\n",
       "      <th>2</th>\n",
       "      <td>11250</td>\n",
       "      <td>CollgCr</td>\n",
       "      <td>2</td>\n",
       "      <td>3</td>\n",
       "      <td>223500</td>\n",
       "      <td>2</td>\n",
       "    </tr>\n",
       "    <tr>\n",
       "      <th>3</th>\n",
       "      <td>9550</td>\n",
       "      <td>Crawfor</td>\n",
       "      <td>1</td>\n",
       "      <td>3</td>\n",
       "      <td>140000</td>\n",
       "      <td>2</td>\n",
       "    </tr>\n",
       "    <tr>\n",
       "      <th>4</th>\n",
       "      <td>14260</td>\n",
       "      <td>NoRidge</td>\n",
       "      <td>2</td>\n",
       "      <td>4</td>\n",
       "      <td>250000</td>\n",
       "      <td>2</td>\n",
       "    </tr>\n",
       "  </tbody>\n",
       "</table>\n",
       "</div>"
      ],
      "text/plain": [
       "   LotArea Neighborhood  FullBath  BedroomAbvGr  SalePrice House_Storys\n",
       "0     8450      CollgCr         2             3     208500            2\n",
       "1     9600      Veenker         2             3     181500            1\n",
       "2    11250      CollgCr         2             3     223500            2\n",
       "3     9550      Crawfor         1             3     140000            2\n",
       "4    14260      NoRidge         2             4     250000            2"
      ]
     },
     "execution_count": 20,
     "metadata": {},
     "output_type": "execute_result"
    }
   ],
   "source": [
    "df.head()"
   ]
  },
  {
   "cell_type": "code",
   "execution_count": 21,
   "id": "d3a0ec09",
   "metadata": {},
   "outputs": [],
   "source": [
    "df=df.astype({\"House_Storys\": \"int\"})"
   ]
  },
  {
   "cell_type": "code",
   "execution_count": 22,
   "id": "0f2f6cee",
   "metadata": {},
   "outputs": [
    {
     "data": {
      "text/plain": [
       "BedroomAbvGr\n",
       "0      3\n",
       "1     41\n",
       "2    335\n",
       "3    744\n",
       "4    207\n",
       "5     20\n",
       "6      7\n",
       "8      1\n",
       "Name: BedroomAbvGr, dtype: int64"
      ]
     },
     "execution_count": 22,
     "metadata": {},
     "output_type": "execute_result"
    }
   ],
   "source": [
    "df.groupby(\"BedroomAbvGr\")[\"BedroomAbvGr\"].agg(\"count\")"
   ]
  },
  {
   "cell_type": "code",
   "execution_count": 23,
   "id": "f64aa341",
   "metadata": {},
   "outputs": [
    {
     "data": {
      "text/plain": [
       "FullBath\n",
       "0      5\n",
       "1    587\n",
       "2    736\n",
       "3     30\n",
       "Name: FullBath, dtype: int64"
      ]
     },
     "execution_count": 23,
     "metadata": {},
     "output_type": "execute_result"
    }
   ],
   "source": [
    "df.groupby(\"FullBath\")[\"FullBath\"].agg(\"count\")"
   ]
  },
  {
   "cell_type": "code",
   "execution_count": 24,
   "id": "c74c9e8c",
   "metadata": {},
   "outputs": [],
   "source": [
    "df1=df.copy()"
   ]
  },
  {
   "cell_type": "code",
   "execution_count": 25,
   "id": "3a45b1e0",
   "metadata": {},
   "outputs": [
    {
     "data": {
      "text/html": [
       "<div>\n",
       "<style scoped>\n",
       "    .dataframe tbody tr th:only-of-type {\n",
       "        vertical-align: middle;\n",
       "    }\n",
       "\n",
       "    .dataframe tbody tr th {\n",
       "        vertical-align: top;\n",
       "    }\n",
       "\n",
       "    .dataframe thead th {\n",
       "        text-align: right;\n",
       "    }\n",
       "</style>\n",
       "<table border=\"1\" class=\"dataframe\">\n",
       "  <thead>\n",
       "    <tr style=\"text-align: right;\">\n",
       "      <th></th>\n",
       "      <th>LotArea</th>\n",
       "      <th>Neighborhood</th>\n",
       "      <th>FullBath</th>\n",
       "      <th>BedroomAbvGr</th>\n",
       "      <th>SalePrice</th>\n",
       "      <th>House_Storys</th>\n",
       "      <th>price_per_sqft</th>\n",
       "    </tr>\n",
       "  </thead>\n",
       "  <tbody>\n",
       "    <tr>\n",
       "      <th>0</th>\n",
       "      <td>8450</td>\n",
       "      <td>CollgCr</td>\n",
       "      <td>2</td>\n",
       "      <td>3</td>\n",
       "      <td>208500</td>\n",
       "      <td>2</td>\n",
       "      <td>246745.562130</td>\n",
       "    </tr>\n",
       "    <tr>\n",
       "      <th>1</th>\n",
       "      <td>9600</td>\n",
       "      <td>Veenker</td>\n",
       "      <td>2</td>\n",
       "      <td>3</td>\n",
       "      <td>181500</td>\n",
       "      <td>1</td>\n",
       "      <td>189062.500000</td>\n",
       "    </tr>\n",
       "    <tr>\n",
       "      <th>2</th>\n",
       "      <td>11250</td>\n",
       "      <td>CollgCr</td>\n",
       "      <td>2</td>\n",
       "      <td>3</td>\n",
       "      <td>223500</td>\n",
       "      <td>2</td>\n",
       "      <td>198666.666667</td>\n",
       "    </tr>\n",
       "    <tr>\n",
       "      <th>3</th>\n",
       "      <td>9550</td>\n",
       "      <td>Crawfor</td>\n",
       "      <td>1</td>\n",
       "      <td>3</td>\n",
       "      <td>140000</td>\n",
       "      <td>2</td>\n",
       "      <td>146596.858639</td>\n",
       "    </tr>\n",
       "    <tr>\n",
       "      <th>4</th>\n",
       "      <td>14260</td>\n",
       "      <td>NoRidge</td>\n",
       "      <td>2</td>\n",
       "      <td>4</td>\n",
       "      <td>250000</td>\n",
       "      <td>2</td>\n",
       "      <td>175315.568022</td>\n",
       "    </tr>\n",
       "  </tbody>\n",
       "</table>\n",
       "</div>"
      ],
      "text/plain": [
       "   LotArea Neighborhood  FullBath  BedroomAbvGr  SalePrice  House_Storys  \\\n",
       "0     8450      CollgCr         2             3     208500             2   \n",
       "1     9600      Veenker         2             3     181500             1   \n",
       "2    11250      CollgCr         2             3     223500             2   \n",
       "3     9550      Crawfor         1             3     140000             2   \n",
       "4    14260      NoRidge         2             4     250000             2   \n",
       "\n",
       "   price_per_sqft  \n",
       "0   246745.562130  \n",
       "1   189062.500000  \n",
       "2   198666.666667  \n",
       "3   146596.858639  \n",
       "4   175315.568022  "
      ]
     },
     "execution_count": 25,
     "metadata": {},
     "output_type": "execute_result"
    }
   ],
   "source": [
    "df1[\"price_per_sqft\"]= df1[\"SalePrice\"]*10000/df1[\"LotArea\"]\n",
    "df1.head()"
   ]
  },
  {
   "cell_type": "code",
   "execution_count": 26,
   "id": "6b2b8660",
   "metadata": {},
   "outputs": [
    {
     "data": {
      "text/plain": [
       "25"
      ]
     },
     "execution_count": 26,
     "metadata": {},
     "output_type": "execute_result"
    }
   ],
   "source": [
    "len(df1.Neighborhood.unique())"
   ]
  },
  {
   "cell_type": "code",
   "execution_count": 27,
   "id": "0533add4",
   "metadata": {},
   "outputs": [
    {
     "data": {
      "text/plain": [
       "(1358, 7)"
      ]
     },
     "execution_count": 27,
     "metadata": {},
     "output_type": "execute_result"
    }
   ],
   "source": [
    "df1.shape"
   ]
  },
  {
   "cell_type": "code",
   "execution_count": 28,
   "id": "5b61918b",
   "metadata": {},
   "outputs": [
    {
     "data": {
      "text/plain": [
       "Neighborhood\n",
       "NAmes      198\n",
       "CollgCr    144\n",
       "OldTown    111\n",
       "Edwards     89\n",
       "Somerst     86\n",
       "NridgHt     77\n",
       "Gilbert     72\n",
       "NWAmes      65\n",
       "Sawyer      63\n",
       "BrkSide     58\n",
       "SawyerW     55\n",
       "Crawfor     51\n",
       "NoRidge     41\n",
       "Mitchel     39\n",
       "IDOTRR      37\n",
       "Timber      34\n",
       "StoneBr     25\n",
       "ClearCr     25\n",
       "SWISU       25\n",
       "Blmngtn     17\n",
       "BrDale      16\n",
       "MeadowV     10\n",
       "NPkVill      9\n",
       "Veenker      9\n",
       "Blueste      2\n",
       "Name: Neighborhood, dtype: int64"
      ]
     },
     "execution_count": 28,
     "metadata": {},
     "output_type": "execute_result"
    }
   ],
   "source": [
    "df1.Neighborhood=df1.Neighborhood.apply(lambda x : x.strip())\n",
    "Neighborhood_stats= df1.groupby(\"Neighborhood\")[\"Neighborhood\"].agg(\"count\").sort_values(ascending=False)\n",
    "Neighborhood_stats"
   ]
  },
  {
   "cell_type": "code",
   "execution_count": 29,
   "id": "b53b837c",
   "metadata": {},
   "outputs": [
    {
     "data": {
      "text/plain": [
       "4"
      ]
     },
     "execution_count": 29,
     "metadata": {},
     "output_type": "execute_result"
    }
   ],
   "source": [
    "len(Neighborhood_stats[Neighborhood_stats<=10])"
   ]
  },
  {
   "cell_type": "code",
   "execution_count": 30,
   "id": "7989f50a",
   "metadata": {},
   "outputs": [
    {
     "data": {
      "text/plain": [
       "Neighborhood\n",
       "MeadowV    10\n",
       "NPkVill     9\n",
       "Veenker     9\n",
       "Blueste     2\n",
       "Name: Neighborhood, dtype: int64"
      ]
     },
     "execution_count": 30,
     "metadata": {},
     "output_type": "execute_result"
    }
   ],
   "source": [
    "Neighborhood_stats_less_10=Neighborhood_stats[Neighborhood_stats<=10]\n",
    "Neighborhood_stats_less_10"
   ]
  },
  {
   "cell_type": "code",
   "execution_count": 31,
   "id": "6a918efb",
   "metadata": {},
   "outputs": [
    {
     "data": {
      "text/plain": [
       "25"
      ]
     },
     "execution_count": 31,
     "metadata": {},
     "output_type": "execute_result"
    }
   ],
   "source": [
    "len(df1.Neighborhood.unique())"
   ]
  },
  {
   "cell_type": "code",
   "execution_count": 32,
   "id": "a74040ee",
   "metadata": {},
   "outputs": [
    {
     "data": {
      "text/plain": [
       "22"
      ]
     },
     "execution_count": 32,
     "metadata": {},
     "output_type": "execute_result"
    }
   ],
   "source": [
    "df1.Neighborhood=df1.Neighborhood.apply(lambda x: \"other\" if x in Neighborhood_stats_less_10 else x)\n",
    "len(df1.Neighborhood.unique())"
   ]
  },
  {
   "cell_type": "code",
   "execution_count": 33,
   "id": "14ecc529",
   "metadata": {
    "scrolled": false
   },
   "outputs": [
    {
     "data": {
      "text/html": [
       "<div>\n",
       "<style scoped>\n",
       "    .dataframe tbody tr th:only-of-type {\n",
       "        vertical-align: middle;\n",
       "    }\n",
       "\n",
       "    .dataframe tbody tr th {\n",
       "        vertical-align: top;\n",
       "    }\n",
       "\n",
       "    .dataframe thead th {\n",
       "        text-align: right;\n",
       "    }\n",
       "</style>\n",
       "<table border=\"1\" class=\"dataframe\">\n",
       "  <thead>\n",
       "    <tr style=\"text-align: right;\">\n",
       "      <th></th>\n",
       "      <th>LotArea</th>\n",
       "      <th>Neighborhood</th>\n",
       "      <th>FullBath</th>\n",
       "      <th>BedroomAbvGr</th>\n",
       "      <th>SalePrice</th>\n",
       "      <th>House_Storys</th>\n",
       "      <th>price_per_sqft</th>\n",
       "    </tr>\n",
       "  </thead>\n",
       "  <tbody>\n",
       "    <tr>\n",
       "      <th>0</th>\n",
       "      <td>8450</td>\n",
       "      <td>CollgCr</td>\n",
       "      <td>2</td>\n",
       "      <td>3</td>\n",
       "      <td>208500</td>\n",
       "      <td>2</td>\n",
       "      <td>246745.562130</td>\n",
       "    </tr>\n",
       "    <tr>\n",
       "      <th>1</th>\n",
       "      <td>9600</td>\n",
       "      <td>other</td>\n",
       "      <td>2</td>\n",
       "      <td>3</td>\n",
       "      <td>181500</td>\n",
       "      <td>1</td>\n",
       "      <td>189062.500000</td>\n",
       "    </tr>\n",
       "    <tr>\n",
       "      <th>2</th>\n",
       "      <td>11250</td>\n",
       "      <td>CollgCr</td>\n",
       "      <td>2</td>\n",
       "      <td>3</td>\n",
       "      <td>223500</td>\n",
       "      <td>2</td>\n",
       "      <td>198666.666667</td>\n",
       "    </tr>\n",
       "    <tr>\n",
       "      <th>3</th>\n",
       "      <td>9550</td>\n",
       "      <td>Crawfor</td>\n",
       "      <td>1</td>\n",
       "      <td>3</td>\n",
       "      <td>140000</td>\n",
       "      <td>2</td>\n",
       "      <td>146596.858639</td>\n",
       "    </tr>\n",
       "    <tr>\n",
       "      <th>4</th>\n",
       "      <td>14260</td>\n",
       "      <td>NoRidge</td>\n",
       "      <td>2</td>\n",
       "      <td>4</td>\n",
       "      <td>250000</td>\n",
       "      <td>2</td>\n",
       "      <td>175315.568022</td>\n",
       "    </tr>\n",
       "    <tr>\n",
       "      <th>5</th>\n",
       "      <td>14115</td>\n",
       "      <td>Mitchel</td>\n",
       "      <td>1</td>\n",
       "      <td>1</td>\n",
       "      <td>143000</td>\n",
       "      <td>1</td>\n",
       "      <td>101310.662416</td>\n",
       "    </tr>\n",
       "    <tr>\n",
       "      <th>6</th>\n",
       "      <td>10084</td>\n",
       "      <td>Somerst</td>\n",
       "      <td>2</td>\n",
       "      <td>3</td>\n",
       "      <td>307000</td>\n",
       "      <td>1</td>\n",
       "      <td>304442.681476</td>\n",
       "    </tr>\n",
       "    <tr>\n",
       "      <th>7</th>\n",
       "      <td>10382</td>\n",
       "      <td>NWAmes</td>\n",
       "      <td>2</td>\n",
       "      <td>3</td>\n",
       "      <td>200000</td>\n",
       "      <td>2</td>\n",
       "      <td>192641.109613</td>\n",
       "    </tr>\n",
       "    <tr>\n",
       "      <th>8</th>\n",
       "      <td>6120</td>\n",
       "      <td>OldTown</td>\n",
       "      <td>2</td>\n",
       "      <td>2</td>\n",
       "      <td>129900</td>\n",
       "      <td>1</td>\n",
       "      <td>212254.901961</td>\n",
       "    </tr>\n",
       "    <tr>\n",
       "      <th>9</th>\n",
       "      <td>7420</td>\n",
       "      <td>BrkSide</td>\n",
       "      <td>1</td>\n",
       "      <td>2</td>\n",
       "      <td>118000</td>\n",
       "      <td>1</td>\n",
       "      <td>159029.649596</td>\n",
       "    </tr>\n",
       "  </tbody>\n",
       "</table>\n",
       "</div>"
      ],
      "text/plain": [
       "   LotArea Neighborhood  FullBath  BedroomAbvGr  SalePrice  House_Storys  \\\n",
       "0     8450      CollgCr         2             3     208500             2   \n",
       "1     9600        other         2             3     181500             1   \n",
       "2    11250      CollgCr         2             3     223500             2   \n",
       "3     9550      Crawfor         1             3     140000             2   \n",
       "4    14260      NoRidge         2             4     250000             2   \n",
       "5    14115      Mitchel         1             1     143000             1   \n",
       "6    10084      Somerst         2             3     307000             1   \n",
       "7    10382       NWAmes         2             3     200000             2   \n",
       "8     6120      OldTown         2             2     129900             1   \n",
       "9     7420      BrkSide         1             2     118000             1   \n",
       "\n",
       "   price_per_sqft  \n",
       "0   246745.562130  \n",
       "1   189062.500000  \n",
       "2   198666.666667  \n",
       "3   146596.858639  \n",
       "4   175315.568022  \n",
       "5   101310.662416  \n",
       "6   304442.681476  \n",
       "7   192641.109613  \n",
       "8   212254.901961  \n",
       "9   159029.649596  "
      ]
     },
     "execution_count": 33,
     "metadata": {},
     "output_type": "execute_result"
    }
   ],
   "source": [
    "df1.head(10)"
   ]
  },
  {
   "cell_type": "code",
   "execution_count": 34,
   "id": "104b42e2",
   "metadata": {},
   "outputs": [
    {
     "data": {
      "text/plain": [
       "<bound method Series.unique of 0        8450\n",
       "1        9600\n",
       "2       11250\n",
       "3        9550\n",
       "4       14260\n",
       "        ...  \n",
       "1455     7917\n",
       "1456    13175\n",
       "1457     9042\n",
       "1458     9717\n",
       "1459     9937\n",
       "Name: LotArea, Length: 1358, dtype: int64>"
      ]
     },
     "execution_count": 34,
     "metadata": {},
     "output_type": "execute_result"
    }
   ],
   "source": [
    "df1.LotArea.unique"
   ]
  },
  {
   "cell_type": "code",
   "execution_count": 35,
   "id": "9d148d94",
   "metadata": {},
   "outputs": [
    {
     "data": {
      "text/html": [
       "<div>\n",
       "<style scoped>\n",
       "    .dataframe tbody tr th:only-of-type {\n",
       "        vertical-align: middle;\n",
       "    }\n",
       "\n",
       "    .dataframe tbody tr th {\n",
       "        vertical-align: top;\n",
       "    }\n",
       "\n",
       "    .dataframe thead th {\n",
       "        text-align: right;\n",
       "    }\n",
       "</style>\n",
       "<table border=\"1\" class=\"dataframe\">\n",
       "  <thead>\n",
       "    <tr style=\"text-align: right;\">\n",
       "      <th></th>\n",
       "      <th>LotArea</th>\n",
       "      <th>Neighborhood</th>\n",
       "      <th>FullBath</th>\n",
       "      <th>BedroomAbvGr</th>\n",
       "      <th>SalePrice</th>\n",
       "      <th>House_Storys</th>\n",
       "      <th>price_per_sqft</th>\n",
       "    </tr>\n",
       "  </thead>\n",
       "  <tbody>\n",
       "    <tr>\n",
       "      <th>118</th>\n",
       "      <td>12376</td>\n",
       "      <td>SawyerW</td>\n",
       "      <td>3</td>\n",
       "      <td>5</td>\n",
       "      <td>320000</td>\n",
       "      <td>2</td>\n",
       "      <td>258564.964447</td>\n",
       "    </tr>\n",
       "    <tr>\n",
       "      <th>137</th>\n",
       "      <td>11070</td>\n",
       "      <td>Mitchel</td>\n",
       "      <td>3</td>\n",
       "      <td>5</td>\n",
       "      <td>171000</td>\n",
       "      <td>1</td>\n",
       "      <td>154471.544715</td>\n",
       "    </tr>\n",
       "    <tr>\n",
       "      <th>144</th>\n",
       "      <td>9100</td>\n",
       "      <td>Sawyer</td>\n",
       "      <td>2</td>\n",
       "      <td>6</td>\n",
       "      <td>125000</td>\n",
       "      <td>1</td>\n",
       "      <td>137362.637363</td>\n",
       "    </tr>\n",
       "    <tr>\n",
       "      <th>198</th>\n",
       "      <td>5520</td>\n",
       "      <td>OldTown</td>\n",
       "      <td>1</td>\n",
       "      <td>5</td>\n",
       "      <td>104000</td>\n",
       "      <td>2</td>\n",
       "      <td>188405.797101</td>\n",
       "    </tr>\n",
       "    <tr>\n",
       "      <th>291</th>\n",
       "      <td>5687</td>\n",
       "      <td>SWISU</td>\n",
       "      <td>2</td>\n",
       "      <td>6</td>\n",
       "      <td>135900</td>\n",
       "      <td>2</td>\n",
       "      <td>238966.062951</td>\n",
       "    </tr>\n",
       "    <tr>\n",
       "      <th>328</th>\n",
       "      <td>11888</td>\n",
       "      <td>BrkSide</td>\n",
       "      <td>2</td>\n",
       "      <td>5</td>\n",
       "      <td>214500</td>\n",
       "      <td>2</td>\n",
       "      <td>180434.051144</td>\n",
       "    </tr>\n",
       "    <tr>\n",
       "      <th>330</th>\n",
       "      <td>10624</td>\n",
       "      <td>NAmes</td>\n",
       "      <td>2</td>\n",
       "      <td>6</td>\n",
       "      <td>119000</td>\n",
       "      <td>1</td>\n",
       "      <td>112010.542169</td>\n",
       "    </tr>\n",
       "    <tr>\n",
       "      <th>386</th>\n",
       "      <td>8410</td>\n",
       "      <td>Edwards</td>\n",
       "      <td>1</td>\n",
       "      <td>5</td>\n",
       "      <td>81000</td>\n",
       "      <td>1</td>\n",
       "      <td>96313.912010</td>\n",
       "    </tr>\n",
       "    <tr>\n",
       "      <th>570</th>\n",
       "      <td>13101</td>\n",
       "      <td>NAmes</td>\n",
       "      <td>2</td>\n",
       "      <td>6</td>\n",
       "      <td>142600</td>\n",
       "      <td>1</td>\n",
       "      <td>108846.652927</td>\n",
       "    </tr>\n",
       "    <tr>\n",
       "      <th>628</th>\n",
       "      <td>11606</td>\n",
       "      <td>NAmes</td>\n",
       "      <td>1</td>\n",
       "      <td>5</td>\n",
       "      <td>135000</td>\n",
       "      <td>2</td>\n",
       "      <td>116319.145270</td>\n",
       "    </tr>\n",
       "    <tr>\n",
       "      <th>635</th>\n",
       "      <td>10896</td>\n",
       "      <td>SWISU</td>\n",
       "      <td>2</td>\n",
       "      <td>8</td>\n",
       "      <td>200000</td>\n",
       "      <td>2</td>\n",
       "      <td>183553.597651</td>\n",
       "    </tr>\n",
       "    <tr>\n",
       "      <th>789</th>\n",
       "      <td>12205</td>\n",
       "      <td>ClearCr</td>\n",
       "      <td>2</td>\n",
       "      <td>5</td>\n",
       "      <td>187500</td>\n",
       "      <td>2</td>\n",
       "      <td>153625.563294</td>\n",
       "    </tr>\n",
       "    <tr>\n",
       "      <th>843</th>\n",
       "      <td>8000</td>\n",
       "      <td>NAmes</td>\n",
       "      <td>2</td>\n",
       "      <td>6</td>\n",
       "      <td>141000</td>\n",
       "      <td>1</td>\n",
       "      <td>176250.000000</td>\n",
       "    </tr>\n",
       "    <tr>\n",
       "      <th>848</th>\n",
       "      <td>45600</td>\n",
       "      <td>ClearCr</td>\n",
       "      <td>3</td>\n",
       "      <td>5</td>\n",
       "      <td>240000</td>\n",
       "      <td>1</td>\n",
       "      <td>52631.578947</td>\n",
       "    </tr>\n",
       "    <tr>\n",
       "      <th>883</th>\n",
       "      <td>6204</td>\n",
       "      <td>SWISU</td>\n",
       "      <td>1</td>\n",
       "      <td>5</td>\n",
       "      <td>118500</td>\n",
       "      <td>2</td>\n",
       "      <td>191005.802708</td>\n",
       "    </tr>\n",
       "    <tr>\n",
       "      <th>897</th>\n",
       "      <td>7018</td>\n",
       "      <td>SawyerW</td>\n",
       "      <td>2</td>\n",
       "      <td>6</td>\n",
       "      <td>142953</td>\n",
       "      <td>2</td>\n",
       "      <td>203694.784839</td>\n",
       "    </tr>\n",
       "    <tr>\n",
       "      <th>910</th>\n",
       "      <td>11600</td>\n",
       "      <td>NAmes</td>\n",
       "      <td>2</td>\n",
       "      <td>5</td>\n",
       "      <td>154300</td>\n",
       "      <td>2</td>\n",
       "      <td>133017.241379</td>\n",
       "    </tr>\n",
       "    <tr>\n",
       "      <th>1030</th>\n",
       "      <td>7082</td>\n",
       "      <td>SWISU</td>\n",
       "      <td>2</td>\n",
       "      <td>5</td>\n",
       "      <td>160000</td>\n",
       "      <td>2</td>\n",
       "      <td>225924.879977</td>\n",
       "    </tr>\n",
       "    <tr>\n",
       "      <th>1031</th>\n",
       "      <td>15863</td>\n",
       "      <td>SWISU</td>\n",
       "      <td>2</td>\n",
       "      <td>5</td>\n",
       "      <td>197000</td>\n",
       "      <td>2</td>\n",
       "      <td>124188.362857</td>\n",
       "    </tr>\n",
       "    <tr>\n",
       "      <th>1032</th>\n",
       "      <td>14541</td>\n",
       "      <td>NoRidge</td>\n",
       "      <td>2</td>\n",
       "      <td>5</td>\n",
       "      <td>310000</td>\n",
       "      <td>2</td>\n",
       "      <td>213190.289526</td>\n",
       "    </tr>\n",
       "    <tr>\n",
       "      <th>1062</th>\n",
       "      <td>13600</td>\n",
       "      <td>OldTown</td>\n",
       "      <td>2</td>\n",
       "      <td>5</td>\n",
       "      <td>90000</td>\n",
       "      <td>2</td>\n",
       "      <td>66176.470588</td>\n",
       "    </tr>\n",
       "    <tr>\n",
       "      <th>1068</th>\n",
       "      <td>3964</td>\n",
       "      <td>other</td>\n",
       "      <td>2</td>\n",
       "      <td>5</td>\n",
       "      <td>151400</td>\n",
       "      <td>2</td>\n",
       "      <td>381937.436932</td>\n",
       "    </tr>\n",
       "    <tr>\n",
       "      <th>1132</th>\n",
       "      <td>9900</td>\n",
       "      <td>OldTown</td>\n",
       "      <td>2</td>\n",
       "      <td>5</td>\n",
       "      <td>117500</td>\n",
       "      <td>2</td>\n",
       "      <td>118686.868687</td>\n",
       "    </tr>\n",
       "    <tr>\n",
       "      <th>1262</th>\n",
       "      <td>11250</td>\n",
       "      <td>ClearCr</td>\n",
       "      <td>1</td>\n",
       "      <td>5</td>\n",
       "      <td>161500</td>\n",
       "      <td>1</td>\n",
       "      <td>143555.555556</td>\n",
       "    </tr>\n",
       "    <tr>\n",
       "      <th>1328</th>\n",
       "      <td>10440</td>\n",
       "      <td>OldTown</td>\n",
       "      <td>2</td>\n",
       "      <td>5</td>\n",
       "      <td>256000</td>\n",
       "      <td>1</td>\n",
       "      <td>245210.727969</td>\n",
       "    </tr>\n",
       "    <tr>\n",
       "      <th>1350</th>\n",
       "      <td>11643</td>\n",
       "      <td>NAmes</td>\n",
       "      <td>2</td>\n",
       "      <td>6</td>\n",
       "      <td>200000</td>\n",
       "      <td>2</td>\n",
       "      <td>171777.033411</td>\n",
       "    </tr>\n",
       "    <tr>\n",
       "      <th>1386</th>\n",
       "      <td>16692</td>\n",
       "      <td>NWAmes</td>\n",
       "      <td>3</td>\n",
       "      <td>5</td>\n",
       "      <td>250000</td>\n",
       "      <td>2</td>\n",
       "      <td>149772.346034</td>\n",
       "    </tr>\n",
       "    <tr>\n",
       "      <th>1387</th>\n",
       "      <td>8520</td>\n",
       "      <td>OldTown</td>\n",
       "      <td>2</td>\n",
       "      <td>5</td>\n",
       "      <td>136000</td>\n",
       "      <td>1</td>\n",
       "      <td>159624.413146</td>\n",
       "    </tr>\n",
       "  </tbody>\n",
       "</table>\n",
       "</div>"
      ],
      "text/plain": [
       "      LotArea Neighborhood  FullBath  BedroomAbvGr  SalePrice  House_Storys  \\\n",
       "118     12376      SawyerW         3             5     320000             2   \n",
       "137     11070      Mitchel         3             5     171000             1   \n",
       "144      9100       Sawyer         2             6     125000             1   \n",
       "198      5520      OldTown         1             5     104000             2   \n",
       "291      5687        SWISU         2             6     135900             2   \n",
       "328     11888      BrkSide         2             5     214500             2   \n",
       "330     10624        NAmes         2             6     119000             1   \n",
       "386      8410      Edwards         1             5      81000             1   \n",
       "570     13101        NAmes         2             6     142600             1   \n",
       "628     11606        NAmes         1             5     135000             2   \n",
       "635     10896        SWISU         2             8     200000             2   \n",
       "789     12205      ClearCr         2             5     187500             2   \n",
       "843      8000        NAmes         2             6     141000             1   \n",
       "848     45600      ClearCr         3             5     240000             1   \n",
       "883      6204        SWISU         1             5     118500             2   \n",
       "897      7018      SawyerW         2             6     142953             2   \n",
       "910     11600        NAmes         2             5     154300             2   \n",
       "1030     7082        SWISU         2             5     160000             2   \n",
       "1031    15863        SWISU         2             5     197000             2   \n",
       "1032    14541      NoRidge         2             5     310000             2   \n",
       "1062    13600      OldTown         2             5      90000             2   \n",
       "1068     3964        other         2             5     151400             2   \n",
       "1132     9900      OldTown         2             5     117500             2   \n",
       "1262    11250      ClearCr         1             5     161500             1   \n",
       "1328    10440      OldTown         2             5     256000             1   \n",
       "1350    11643        NAmes         2             6     200000             2   \n",
       "1386    16692       NWAmes         3             5     250000             2   \n",
       "1387     8520      OldTown         2             5     136000             1   \n",
       "\n",
       "      price_per_sqft  \n",
       "118    258564.964447  \n",
       "137    154471.544715  \n",
       "144    137362.637363  \n",
       "198    188405.797101  \n",
       "291    238966.062951  \n",
       "328    180434.051144  \n",
       "330    112010.542169  \n",
       "386     96313.912010  \n",
       "570    108846.652927  \n",
       "628    116319.145270  \n",
       "635    183553.597651  \n",
       "789    153625.563294  \n",
       "843    176250.000000  \n",
       "848     52631.578947  \n",
       "883    191005.802708  \n",
       "897    203694.784839  \n",
       "910    133017.241379  \n",
       "1030   225924.879977  \n",
       "1031   124188.362857  \n",
       "1032   213190.289526  \n",
       "1062    66176.470588  \n",
       "1068   381937.436932  \n",
       "1132   118686.868687  \n",
       "1262   143555.555556  \n",
       "1328   245210.727969  \n",
       "1350   171777.033411  \n",
       "1386   149772.346034  \n",
       "1387   159624.413146  "
      ]
     },
     "execution_count": 35,
     "metadata": {},
     "output_type": "execute_result"
    }
   ],
   "source": [
    "df1[df1.BedroomAbvGr>4]"
   ]
  },
  {
   "cell_type": "code",
   "execution_count": 36,
   "id": "1f3308d3",
   "metadata": {},
   "outputs": [
    {
     "data": {
      "text/html": [
       "<div>\n",
       "<style scoped>\n",
       "    .dataframe tbody tr th:only-of-type {\n",
       "        vertical-align: middle;\n",
       "    }\n",
       "\n",
       "    .dataframe tbody tr th {\n",
       "        vertical-align: top;\n",
       "    }\n",
       "\n",
       "    .dataframe thead th {\n",
       "        text-align: right;\n",
       "    }\n",
       "</style>\n",
       "<table border=\"1\" class=\"dataframe\">\n",
       "  <thead>\n",
       "    <tr style=\"text-align: right;\">\n",
       "      <th></th>\n",
       "      <th>LotArea</th>\n",
       "      <th>Neighborhood</th>\n",
       "      <th>FullBath</th>\n",
       "      <th>BedroomAbvGr</th>\n",
       "      <th>SalePrice</th>\n",
       "      <th>House_Storys</th>\n",
       "      <th>price_per_sqft</th>\n",
       "    </tr>\n",
       "  </thead>\n",
       "  <tbody>\n",
       "  </tbody>\n",
       "</table>\n",
       "</div>"
      ],
      "text/plain": [
       "Empty DataFrame\n",
       "Columns: [LotArea, Neighborhood, FullBath, BedroomAbvGr, SalePrice, House_Storys, price_per_sqft]\n",
       "Index: []"
      ]
     },
     "execution_count": 36,
     "metadata": {},
     "output_type": "execute_result"
    }
   ],
   "source": [
    "df1[df1.LotArea/df1.BedroomAbvGr<300].head()"
   ]
  },
  {
   "cell_type": "code",
   "execution_count": 37,
   "id": "e003bbed",
   "metadata": {},
   "outputs": [
    {
     "data": {
      "text/plain": [
       "(1358, 7)"
      ]
     },
     "execution_count": 37,
     "metadata": {},
     "output_type": "execute_result"
    }
   ],
   "source": [
    "df1.shape"
   ]
  },
  {
   "cell_type": "code",
   "execution_count": 38,
   "id": "12e5a77a",
   "metadata": {},
   "outputs": [
    {
     "data": {
      "text/plain": [
       "count      1358.000000\n",
       "mean     211843.086372\n",
       "std      125075.171916\n",
       "min       13904.409085\n",
       "25%      137698.512029\n",
       "50%      180227.544774\n",
       "75%      240644.831051\n",
       "max      953846.153846\n",
       "Name: price_per_sqft, dtype: float64"
      ]
     },
     "execution_count": 38,
     "metadata": {},
     "output_type": "execute_result"
    }
   ],
   "source": [
    "df1.price_per_sqft.describe()"
   ]
  },
  {
   "cell_type": "code",
   "execution_count": 39,
   "id": "c0685d8f",
   "metadata": {},
   "outputs": [
    {
     "data": {
      "text/plain": [
       "(1020, 7)"
      ]
     },
     "execution_count": 39,
     "metadata": {},
     "output_type": "execute_result"
    }
   ],
   "source": [
    "def remove_pps_outliers(df):\n",
    "    df_out=pd.DataFrame()\n",
    "    for key, subdf in df.groupby(\"Neighborhood\"):\n",
    "        m=np.mean(subdf.price_per_sqft)\n",
    "        st=np.std(subdf.price_per_sqft)\n",
    "        reduced_df=subdf[(subdf.price_per_sqft>(m-st)) & (subdf.price_per_sqft<=(m+st))]\n",
    "        df_out=pd.concat([df_out,reduced_df],ignore_index=True)\n",
    "    return df_out\n",
    "\n",
    "df2 = remove_pps_outliers(df1)\n",
    "df2.shape"
   ]
  },
  {
   "cell_type": "code",
   "execution_count": 40,
   "id": "35910463",
   "metadata": {},
   "outputs": [
    {
     "data": {
      "text/html": [
       "<div>\n",
       "<style scoped>\n",
       "    .dataframe tbody tr th:only-of-type {\n",
       "        vertical-align: middle;\n",
       "    }\n",
       "\n",
       "    .dataframe tbody tr th {\n",
       "        vertical-align: top;\n",
       "    }\n",
       "\n",
       "    .dataframe thead th {\n",
       "        text-align: right;\n",
       "    }\n",
       "</style>\n",
       "<table border=\"1\" class=\"dataframe\">\n",
       "  <thead>\n",
       "    <tr style=\"text-align: right;\">\n",
       "      <th></th>\n",
       "      <th>LotArea</th>\n",
       "      <th>Neighborhood</th>\n",
       "      <th>FullBath</th>\n",
       "      <th>BedroomAbvGr</th>\n",
       "      <th>SalePrice</th>\n",
       "      <th>House_Storys</th>\n",
       "      <th>price_per_sqft</th>\n",
       "    </tr>\n",
       "  </thead>\n",
       "  <tbody>\n",
       "    <tr>\n",
       "      <th>0</th>\n",
       "      <td>3010</td>\n",
       "      <td>Blmngtn</td>\n",
       "      <td>2</td>\n",
       "      <td>2</td>\n",
       "      <td>167240</td>\n",
       "      <td>1</td>\n",
       "      <td>555614.617940</td>\n",
       "    </tr>\n",
       "    <tr>\n",
       "      <th>1</th>\n",
       "      <td>3182</td>\n",
       "      <td>Blmngtn</td>\n",
       "      <td>2</td>\n",
       "      <td>2</td>\n",
       "      <td>192500</td>\n",
       "      <td>1</td>\n",
       "      <td>604965.430547</td>\n",
       "    </tr>\n",
       "    <tr>\n",
       "      <th>2</th>\n",
       "      <td>3182</td>\n",
       "      <td>Blmngtn</td>\n",
       "      <td>2</td>\n",
       "      <td>2</td>\n",
       "      <td>192000</td>\n",
       "      <td>1</td>\n",
       "      <td>603394.091766</td>\n",
       "    </tr>\n",
       "    <tr>\n",
       "      <th>3</th>\n",
       "      <td>3072</td>\n",
       "      <td>Blmngtn</td>\n",
       "      <td>2</td>\n",
       "      <td>2</td>\n",
       "      <td>178740</td>\n",
       "      <td>1</td>\n",
       "      <td>581835.937500</td>\n",
       "    </tr>\n",
       "    <tr>\n",
       "      <th>4</th>\n",
       "      <td>3922</td>\n",
       "      <td>Blmngtn</td>\n",
       "      <td>0</td>\n",
       "      <td>2</td>\n",
       "      <td>194201</td>\n",
       "      <td>1</td>\n",
       "      <td>495158.082611</td>\n",
       "    </tr>\n",
       "  </tbody>\n",
       "</table>\n",
       "</div>"
      ],
      "text/plain": [
       "   LotArea Neighborhood  FullBath  BedroomAbvGr  SalePrice  House_Storys  \\\n",
       "0     3010      Blmngtn         2             2     167240             1   \n",
       "1     3182      Blmngtn         2             2     192500             1   \n",
       "2     3182      Blmngtn         2             2     192000             1   \n",
       "3     3072      Blmngtn         2             2     178740             1   \n",
       "4     3922      Blmngtn         0             2     194201             1   \n",
       "\n",
       "   price_per_sqft  \n",
       "0   555614.617940  \n",
       "1   604965.430547  \n",
       "2   603394.091766  \n",
       "3   581835.937500  \n",
       "4   495158.082611  "
      ]
     },
     "execution_count": 40,
     "metadata": {},
     "output_type": "execute_result"
    }
   ],
   "source": [
    "df2.head()"
   ]
  },
  {
   "cell_type": "code",
   "execution_count": 41,
   "id": "b4970488",
   "metadata": {},
   "outputs": [
    {
     "data": {
      "image/png": "[encoded data removed]",
      "text/plain": [
       "<Figure size 1080x720 with 1 Axes>"
      ]
     },
     "metadata": {
      "needs_background": "light"
     },
     "output_type": "display_data"
    }
   ],
   "source": [
    "import matplotlib \n",
    "def plot_scatter_chart(df,Neighborhood):\n",
    "    bhk2=df[(df.Neighborhood==Neighborhood) & (df.BedroomAbvGr==2)]\n",
    "    bhk3 =df[(df.Neighborhood==Neighborhood) & (df.BedroomAbvGr==3)]\n",
    "    matplotlib.rcParams[\"figure.figsize\"]=(15,10)\n",
    "    plt.scatter(bhk2.LotArea,bhk2.SalePrice,color=\"blue\",label=\"2 BHK\",s=50)\n",
    "    plt.scatter(bhk3.LotArea,bhk3.SalePrice,color=\"green\",marker=\"+\",label=\"3 BHK\",s=50)\n",
    "    plt.xlabel(\"total Squear feet Area\")\n",
    "    plt.ylabel(\"Price\")\n",
    "    plt.title(Neighborhood)\n",
    "    plt.legend()\n",
    "    \n",
    "#plot_scatter_chart(df2,\"Blmngtn\")\n",
    "plot_scatter_chart(df2,\"CollgCr\")"
   ]
  },
  {
   "cell_type": "code",
   "execution_count": 42,
   "id": "80b0a2a7",
   "metadata": {},
   "outputs": [
    {
     "data": {
      "text/plain": [
       "(709, 7)"
      ]
     },
     "execution_count": 42,
     "metadata": {},
     "output_type": "execute_result"
    }
   ],
   "source": [
    "def remove_bhk_outliers(df):\n",
    "    exclude_indices = np.array([])\n",
    "    for Neighborhood, Neighborhood_df in df.groupby(\"Neighborhood\"):\n",
    "        bhk_stats={}\n",
    "        for bhk, bhk_df in Neighborhood_df.groupby(\"BedroomAbvGr\"):\n",
    "            bhk_stats[bhk]={\n",
    "                \"mean\":np.mean(bhk_df.price_per_sqft),\n",
    "                \"std\" :np.std(bhk_df.price_per_sqft),\n",
    "                \"count\":bhk_df.shape[0]\n",
    "            }\n",
    "        for bhk, bhk_df in Neighborhood_df.groupby(\"BedroomAbvGr\"):\n",
    "            stats=bhk_stats.get(bhk-1)\n",
    "            if stats and stats[\"count\"]>5:\n",
    "                exclude_indices=np.append(exclude_indices,bhk_df[bhk_df.price_per_sqft<(stats[\"mean\"])].index.values)\n",
    "    return df.drop(exclude_indices,axis=\"index\")\n",
    "\n",
    "df3=remove_bhk_outliers(df2)\n",
    "df3.shape"
   ]
  },
  {
   "cell_type": "code",
   "execution_count": 43,
   "id": "03390f0d",
   "metadata": {},
   "outputs": [
    {
     "data": {
      "image/png": "[encoded data removed]",
      "text/plain": [
       "<Figure size 1080x720 with 1 Axes>"
      ]
     },
     "metadata": {
      "needs_background": "light"
     },
     "output_type": "display_data"
    }
   ],
   "source": [
    "plot_scatter_chart(df3,\"CollgCr\")"
   ]
  },
  {
   "cell_type": "code",
   "execution_count": 44,
   "id": "f7a73b1e",
   "metadata": {},
   "outputs": [
    {
     "data": {
      "text/plain": [
       "Text(0, 0.5, 'count')"
      ]
     },
     "execution_count": 44,
     "metadata": {},
     "output_type": "execute_result"
    },
    {
     "data": {
      "image/png": "[encoded data removed]",
      "text/plain": [
       "<Figure size 1440x720 with 1 Axes>"
      ]
     },
     "metadata": {
      "needs_background": "light"
     },
     "output_type": "display_data"
    }
   ],
   "source": [
    "matplotlib.rcParams[\"figure.figsize\"]=(20,10)\n",
    "plt.hist(df3.price_per_sqft,rwidth=0.8)\n",
    "plt.xlabel(\"Price Per square Feet\")\n",
    "plt.ylabel(\"count\")"
   ]
  },
  {
   "cell_type": "code",
   "execution_count": 45,
   "id": "98c798bb",
   "metadata": {},
   "outputs": [
    {
     "data": {
      "text/plain": [
       "array([2, 0, 1, 3], dtype=int64)"
      ]
     },
     "execution_count": 45,
     "metadata": {},
     "output_type": "execute_result"
    }
   ],
   "source": [
    "df3.FullBath.unique()"
   ]
  },
  {
   "cell_type": "code",
   "execution_count": 46,
   "id": "9e321623",
   "metadata": {},
   "outputs": [
    {
     "data": {
      "text/plain": [
       "Text(0, 0.5, 'count')"
      ]
     },
     "execution_count": 46,
     "metadata": {},
     "output_type": "execute_result"
    },
    {
     "data": {
      "image/png": "[encoded data removed]",
      "text/plain": [
       "<Figure size 1440x720 with 1 Axes>"
      ]
     },
     "metadata": {
      "needs_background": "light"
     },
     "output_type": "display_data"
    }
   ],
   "source": [
    "plt.hist(df3.FullBath,rwidth=0.8)\n",
    "plt.xlabel(\"Number of bathrooms\")\n",
    "plt.ylabel(\"count\")"
   ]
  },
  {
   "cell_type": "code",
   "execution_count": 47,
   "id": "e20e8575",
   "metadata": {},
   "outputs": [
    {
     "data": {
      "text/html": [
       "<div>\n",
       "<style scoped>\n",
       "    .dataframe tbody tr th:only-of-type {\n",
       "        vertical-align: middle;\n",
       "    }\n",
       "\n",
       "    .dataframe tbody tr th {\n",
       "        vertical-align: top;\n",
       "    }\n",
       "\n",
       "    .dataframe thead th {\n",
       "        text-align: right;\n",
       "    }\n",
       "</style>\n",
       "<table border=\"1\" class=\"dataframe\">\n",
       "  <thead>\n",
       "    <tr style=\"text-align: right;\">\n",
       "      <th></th>\n",
       "      <th>LotArea</th>\n",
       "      <th>Neighborhood</th>\n",
       "      <th>FullBath</th>\n",
       "      <th>BedroomAbvGr</th>\n",
       "      <th>SalePrice</th>\n",
       "      <th>House_Storys</th>\n",
       "      <th>price_per_sqft</th>\n",
       "    </tr>\n",
       "  </thead>\n",
       "  <tbody>\n",
       "  </tbody>\n",
       "</table>\n",
       "</div>"
      ],
      "text/plain": [
       "Empty DataFrame\n",
       "Columns: [LotArea, Neighborhood, FullBath, BedroomAbvGr, SalePrice, House_Storys, price_per_sqft]\n",
       "Index: []"
      ]
     },
     "execution_count": 47,
     "metadata": {},
     "output_type": "execute_result"
    }
   ],
   "source": [
    "df3[df3.FullBath>df3.BedroomAbvGr+2]"
   ]
  },
  {
   "cell_type": "code",
   "execution_count": 48,
   "id": "79818779",
   "metadata": {},
   "outputs": [
    {
     "data": {
      "text/plain": [
       "(709, 7)"
      ]
     },
     "execution_count": 48,
     "metadata": {},
     "output_type": "execute_result"
    }
   ],
   "source": [
    "df3.shape"
   ]
  },
  {
   "cell_type": "code",
   "execution_count": 49,
   "id": "a6b28463",
   "metadata": {},
   "outputs": [
    {
     "data": {
      "text/html": [
       "<div>\n",
       "<style scoped>\n",
       "    .dataframe tbody tr th:only-of-type {\n",
       "        vertical-align: middle;\n",
       "    }\n",
       "\n",
       "    .dataframe tbody tr th {\n",
       "        vertical-align: top;\n",
       "    }\n",
       "\n",
       "    .dataframe thead th {\n",
       "        text-align: right;\n",
       "    }\n",
       "</style>\n",
       "<table border=\"1\" class=\"dataframe\">\n",
       "  <thead>\n",
       "    <tr style=\"text-align: right;\">\n",
       "      <th></th>\n",
       "      <th>LotArea</th>\n",
       "      <th>Neighborhood</th>\n",
       "      <th>FullBath</th>\n",
       "      <th>BedroomAbvGr</th>\n",
       "      <th>SalePrice</th>\n",
       "      <th>House_Storys</th>\n",
       "      <th>price_per_sqft</th>\n",
       "    </tr>\n",
       "  </thead>\n",
       "  <tbody>\n",
       "    <tr>\n",
       "      <th>0</th>\n",
       "      <td>3010</td>\n",
       "      <td>Blmngtn</td>\n",
       "      <td>2</td>\n",
       "      <td>2</td>\n",
       "      <td>167240</td>\n",
       "      <td>1</td>\n",
       "      <td>555614.617940</td>\n",
       "    </tr>\n",
       "    <tr>\n",
       "      <th>1</th>\n",
       "      <td>3182</td>\n",
       "      <td>Blmngtn</td>\n",
       "      <td>2</td>\n",
       "      <td>2</td>\n",
       "      <td>192500</td>\n",
       "      <td>1</td>\n",
       "      <td>604965.430547</td>\n",
       "    </tr>\n",
       "    <tr>\n",
       "      <th>2</th>\n",
       "      <td>3182</td>\n",
       "      <td>Blmngtn</td>\n",
       "      <td>2</td>\n",
       "      <td>2</td>\n",
       "      <td>192000</td>\n",
       "      <td>1</td>\n",
       "      <td>603394.091766</td>\n",
       "    </tr>\n",
       "    <tr>\n",
       "      <th>3</th>\n",
       "      <td>3072</td>\n",
       "      <td>Blmngtn</td>\n",
       "      <td>2</td>\n",
       "      <td>2</td>\n",
       "      <td>178740</td>\n",
       "      <td>1</td>\n",
       "      <td>581835.937500</td>\n",
       "    </tr>\n",
       "    <tr>\n",
       "      <th>4</th>\n",
       "      <td>3922</td>\n",
       "      <td>Blmngtn</td>\n",
       "      <td>0</td>\n",
       "      <td>2</td>\n",
       "      <td>194201</td>\n",
       "      <td>1</td>\n",
       "      <td>495158.082611</td>\n",
       "    </tr>\n",
       "  </tbody>\n",
       "</table>\n",
       "</div>"
      ],
      "text/plain": [
       "   LotArea Neighborhood  FullBath  BedroomAbvGr  SalePrice  House_Storys  \\\n",
       "0     3010      Blmngtn         2             2     167240             1   \n",
       "1     3182      Blmngtn         2             2     192500             1   \n",
       "2     3182      Blmngtn         2             2     192000             1   \n",
       "3     3072      Blmngtn         2             2     178740             1   \n",
       "4     3922      Blmngtn         0             2     194201             1   \n",
       "\n",
       "   price_per_sqft  \n",
       "0   555614.617940  \n",
       "1   604965.430547  \n",
       "2   603394.091766  \n",
       "3   581835.937500  \n",
       "4   495158.082611  "
      ]
     },
     "execution_count": 49,
     "metadata": {},
     "output_type": "execute_result"
    }
   ],
   "source": [
    "df3.head()"
   ]
  },
  {
   "cell_type": "code",
   "execution_count": 50,
   "id": "a3177cab",
   "metadata": {},
   "outputs": [],
   "source": [
    "dummies=pd.get_dummies(df3.Neighborhood)"
   ]
  },
  {
   "cell_type": "code",
   "execution_count": 51,
   "id": "10ef9211",
   "metadata": {},
   "outputs": [
    {
     "data": {
      "text/html": [
       "<div>\n",
       "<style scoped>\n",
       "    .dataframe tbody tr th:only-of-type {\n",
       "        vertical-align: middle;\n",
       "    }\n",
       "\n",
       "    .dataframe tbody tr th {\n",
       "        vertical-align: top;\n",
       "    }\n",
       "\n",
       "    .dataframe thead th {\n",
       "        text-align: right;\n",
       "    }\n",
       "</style>\n",
       "<table border=\"1\" class=\"dataframe\">\n",
       "  <thead>\n",
       "    <tr style=\"text-align: right;\">\n",
       "      <th></th>\n",
       "      <th>Blmngtn</th>\n",
       "      <th>BrDale</th>\n",
       "      <th>BrkSide</th>\n",
       "      <th>ClearCr</th>\n",
       "      <th>CollgCr</th>\n",
       "      <th>Crawfor</th>\n",
       "      <th>Edwards</th>\n",
       "      <th>Gilbert</th>\n",
       "      <th>IDOTRR</th>\n",
       "      <th>Mitchel</th>\n",
       "      <th>...</th>\n",
       "      <th>NoRidge</th>\n",
       "      <th>NridgHt</th>\n",
       "      <th>OldTown</th>\n",
       "      <th>SWISU</th>\n",
       "      <th>Sawyer</th>\n",
       "      <th>SawyerW</th>\n",
       "      <th>Somerst</th>\n",
       "      <th>StoneBr</th>\n",
       "      <th>Timber</th>\n",
       "      <th>other</th>\n",
       "    </tr>\n",
       "  </thead>\n",
       "  <tbody>\n",
       "    <tr>\n",
       "      <th>0</th>\n",
       "      <td>1</td>\n",
       "      <td>0</td>\n",
       "      <td>0</td>\n",
       "      <td>0</td>\n",
       "      <td>0</td>\n",
       "      <td>0</td>\n",
       "      <td>0</td>\n",
       "      <td>0</td>\n",
       "      <td>0</td>\n",
       "      <td>0</td>\n",
       "      <td>...</td>\n",
       "      <td>0</td>\n",
       "      <td>0</td>\n",
       "      <td>0</td>\n",
       "      <td>0</td>\n",
       "      <td>0</td>\n",
       "      <td>0</td>\n",
       "      <td>0</td>\n",
       "      <td>0</td>\n",
       "      <td>0</td>\n",
       "      <td>0</td>\n",
       "    </tr>\n",
       "    <tr>\n",
       "      <th>1</th>\n",
       "      <td>1</td>\n",
       "      <td>0</td>\n",
       "      <td>0</td>\n",
       "      <td>0</td>\n",
       "      <td>0</td>\n",
       "      <td>0</td>\n",
       "      <td>0</td>\n",
       "      <td>0</td>\n",
       "      <td>0</td>\n",
       "      <td>0</td>\n",
       "      <td>...</td>\n",
       "      <td>0</td>\n",
       "      <td>0</td>\n",
       "      <td>0</td>\n",
       "      <td>0</td>\n",
       "      <td>0</td>\n",
       "      <td>0</td>\n",
       "      <td>0</td>\n",
       "      <td>0</td>\n",
       "      <td>0</td>\n",
       "      <td>0</td>\n",
       "    </tr>\n",
       "    <tr>\n",
       "      <th>2</th>\n",
       "      <td>1</td>\n",
       "      <td>0</td>\n",
       "      <td>0</td>\n",
       "      <td>0</td>\n",
       "      <td>0</td>\n",
       "      <td>0</td>\n",
       "      <td>0</td>\n",
       "      <td>0</td>\n",
       "      <td>0</td>\n",
       "      <td>0</td>\n",
       "      <td>...</td>\n",
       "      <td>0</td>\n",
       "      <td>0</td>\n",
       "      <td>0</td>\n",
       "      <td>0</td>\n",
       "      <td>0</td>\n",
       "      <td>0</td>\n",
       "      <td>0</td>\n",
       "      <td>0</td>\n",
       "      <td>0</td>\n",
       "      <td>0</td>\n",
       "    </tr>\n",
       "  </tbody>\n",
       "</table>\n",
       "<p>3 rows × 22 columns</p>\n",
       "</div>"
      ],
      "text/plain": [
       "   Blmngtn  BrDale  BrkSide  ClearCr  CollgCr  Crawfor  Edwards  Gilbert  \\\n",
       "0        1       0        0        0        0        0        0        0   \n",
       "1        1       0        0        0        0        0        0        0   \n",
       "2        1       0        0        0        0        0        0        0   \n",
       "\n",
       "   IDOTRR  Mitchel  ...  NoRidge  NridgHt  OldTown  SWISU  Sawyer  SawyerW  \\\n",
       "0       0        0  ...        0        0        0      0       0        0   \n",
       "1       0        0  ...        0        0        0      0       0        0   \n",
       "2       0        0  ...        0        0        0      0       0        0   \n",
       "\n",
       "   Somerst  StoneBr  Timber  other  \n",
       "0        0        0       0      0  \n",
       "1        0        0       0      0  \n",
       "2        0        0       0      0  \n",
       "\n",
       "[3 rows x 22 columns]"
      ]
     },
     "execution_count": 51,
     "metadata": {},
     "output_type": "execute_result"
    }
   ],
   "source": [
    "dummies.head(3)"
   ]
  },
  {
   "cell_type": "code",
   "execution_count": 52,
   "id": "25650178",
   "metadata": {},
   "outputs": [
    {
     "data": {
      "text/html": [
       "<div>\n",
       "<style scoped>\n",
       "    .dataframe tbody tr th:only-of-type {\n",
       "        vertical-align: middle;\n",
       "    }\n",
       "\n",
       "    .dataframe tbody tr th {\n",
       "        vertical-align: top;\n",
       "    }\n",
       "\n",
       "    .dataframe thead th {\n",
       "        text-align: right;\n",
       "    }\n",
       "</style>\n",
       "<table border=\"1\" class=\"dataframe\">\n",
       "  <thead>\n",
       "    <tr style=\"text-align: right;\">\n",
       "      <th></th>\n",
       "      <th>LotArea</th>\n",
       "      <th>Neighborhood</th>\n",
       "      <th>FullBath</th>\n",
       "      <th>BedroomAbvGr</th>\n",
       "      <th>SalePrice</th>\n",
       "      <th>House_Storys</th>\n",
       "      <th>price_per_sqft</th>\n",
       "      <th>Blmngtn</th>\n",
       "      <th>BrDale</th>\n",
       "      <th>BrkSide</th>\n",
       "      <th>...</th>\n",
       "      <th>NWAmes</th>\n",
       "      <th>NoRidge</th>\n",
       "      <th>NridgHt</th>\n",
       "      <th>OldTown</th>\n",
       "      <th>SWISU</th>\n",
       "      <th>Sawyer</th>\n",
       "      <th>SawyerW</th>\n",
       "      <th>Somerst</th>\n",
       "      <th>StoneBr</th>\n",
       "      <th>Timber</th>\n",
       "    </tr>\n",
       "  </thead>\n",
       "  <tbody>\n",
       "    <tr>\n",
       "      <th>0</th>\n",
       "      <td>3010</td>\n",
       "      <td>Blmngtn</td>\n",
       "      <td>2</td>\n",
       "      <td>2</td>\n",
       "      <td>167240</td>\n",
       "      <td>1</td>\n",
       "      <td>555614.617940</td>\n",
       "      <td>1</td>\n",
       "      <td>0</td>\n",
       "      <td>0</td>\n",
       "      <td>...</td>\n",
       "      <td>0</td>\n",
       "      <td>0</td>\n",
       "      <td>0</td>\n",
       "      <td>0</td>\n",
       "      <td>0</td>\n",
       "      <td>0</td>\n",
       "      <td>0</td>\n",
       "      <td>0</td>\n",
       "      <td>0</td>\n",
       "      <td>0</td>\n",
       "    </tr>\n",
       "    <tr>\n",
       "      <th>1</th>\n",
       "      <td>3182</td>\n",
       "      <td>Blmngtn</td>\n",
       "      <td>2</td>\n",
       "      <td>2</td>\n",
       "      <td>192500</td>\n",
       "      <td>1</td>\n",
       "      <td>604965.430547</td>\n",
       "      <td>1</td>\n",
       "      <td>0</td>\n",
       "      <td>0</td>\n",
       "      <td>...</td>\n",
       "      <td>0</td>\n",
       "      <td>0</td>\n",
       "      <td>0</td>\n",
       "      <td>0</td>\n",
       "      <td>0</td>\n",
       "      <td>0</td>\n",
       "      <td>0</td>\n",
       "      <td>0</td>\n",
       "      <td>0</td>\n",
       "      <td>0</td>\n",
       "    </tr>\n",
       "    <tr>\n",
       "      <th>2</th>\n",
       "      <td>3182</td>\n",
       "      <td>Blmngtn</td>\n",
       "      <td>2</td>\n",
       "      <td>2</td>\n",
       "      <td>192000</td>\n",
       "      <td>1</td>\n",
       "      <td>603394.091766</td>\n",
       "      <td>1</td>\n",
       "      <td>0</td>\n",
       "      <td>0</td>\n",
       "      <td>...</td>\n",
       "      <td>0</td>\n",
       "      <td>0</td>\n",
       "      <td>0</td>\n",
       "      <td>0</td>\n",
       "      <td>0</td>\n",
       "      <td>0</td>\n",
       "      <td>0</td>\n",
       "      <td>0</td>\n",
       "      <td>0</td>\n",
       "      <td>0</td>\n",
       "    </tr>\n",
       "  </tbody>\n",
       "</table>\n",
       "<p>3 rows × 28 columns</p>\n",
       "</div>"
      ],
      "text/plain": [
       "   LotArea Neighborhood  FullBath  BedroomAbvGr  SalePrice  House_Storys  \\\n",
       "0     3010      Blmngtn         2             2     167240             1   \n",
       "1     3182      Blmngtn         2             2     192500             1   \n",
       "2     3182      Blmngtn         2             2     192000             1   \n",
       "\n",
       "   price_per_sqft  Blmngtn  BrDale  BrkSide  ...  NWAmes  NoRidge  NridgHt  \\\n",
       "0   555614.617940        1       0        0  ...       0        0        0   \n",
       "1   604965.430547        1       0        0  ...       0        0        0   \n",
       "2   603394.091766        1       0        0  ...       0        0        0   \n",
       "\n",
       "   OldTown  SWISU  Sawyer  SawyerW  Somerst  StoneBr  Timber  \n",
       "0        0      0       0        0        0        0       0  \n",
       "1        0      0       0        0        0        0       0  \n",
       "2        0      0       0        0        0        0       0  \n",
       "\n",
       "[3 rows x 28 columns]"
      ]
     },
     "execution_count": 52,
     "metadata": {},
     "output_type": "execute_result"
    }
   ],
   "source": [
    "df4=pd.concat([df3,dummies.drop(\"other\",axis=\"columns\")],axis=\"columns\")\n",
    "df4.head(3)"
   ]
  },
  {
   "cell_type": "code",
   "execution_count": 53,
   "id": "daadeb20",
   "metadata": {},
   "outputs": [
    {
     "data": {
      "text/html": [
       "<div>\n",
       "<style scoped>\n",
       "    .dataframe tbody tr th:only-of-type {\n",
       "        vertical-align: middle;\n",
       "    }\n",
       "\n",
       "    .dataframe tbody tr th {\n",
       "        vertical-align: top;\n",
       "    }\n",
       "\n",
       "    .dataframe thead th {\n",
       "        text-align: right;\n",
       "    }\n",
       "</style>\n",
       "<table border=\"1\" class=\"dataframe\">\n",
       "  <thead>\n",
       "    <tr style=\"text-align: right;\">\n",
       "      <th></th>\n",
       "      <th>LotArea</th>\n",
       "      <th>FullBath</th>\n",
       "      <th>BedroomAbvGr</th>\n",
       "      <th>SalePrice</th>\n",
       "      <th>House_Storys</th>\n",
       "      <th>Blmngtn</th>\n",
       "      <th>BrDale</th>\n",
       "      <th>BrkSide</th>\n",
       "      <th>ClearCr</th>\n",
       "      <th>CollgCr</th>\n",
       "      <th>...</th>\n",
       "      <th>NWAmes</th>\n",
       "      <th>NoRidge</th>\n",
       "      <th>NridgHt</th>\n",
       "      <th>OldTown</th>\n",
       "      <th>SWISU</th>\n",
       "      <th>Sawyer</th>\n",
       "      <th>SawyerW</th>\n",
       "      <th>Somerst</th>\n",
       "      <th>StoneBr</th>\n",
       "      <th>Timber</th>\n",
       "    </tr>\n",
       "  </thead>\n",
       "  <tbody>\n",
       "    <tr>\n",
       "      <th>0</th>\n",
       "      <td>3010</td>\n",
       "      <td>2</td>\n",
       "      <td>2</td>\n",
       "      <td>167240</td>\n",
       "      <td>1</td>\n",
       "      <td>1</td>\n",
       "      <td>0</td>\n",
       "      <td>0</td>\n",
       "      <td>0</td>\n",
       "      <td>0</td>\n",
       "      <td>...</td>\n",
       "      <td>0</td>\n",
       "      <td>0</td>\n",
       "      <td>0</td>\n",
       "      <td>0</td>\n",
       "      <td>0</td>\n",
       "      <td>0</td>\n",
       "      <td>0</td>\n",
       "      <td>0</td>\n",
       "      <td>0</td>\n",
       "      <td>0</td>\n",
       "    </tr>\n",
       "    <tr>\n",
       "      <th>1</th>\n",
       "      <td>3182</td>\n",
       "      <td>2</td>\n",
       "      <td>2</td>\n",
       "      <td>192500</td>\n",
       "      <td>1</td>\n",
       "      <td>1</td>\n",
       "      <td>0</td>\n",
       "      <td>0</td>\n",
       "      <td>0</td>\n",
       "      <td>0</td>\n",
       "      <td>...</td>\n",
       "      <td>0</td>\n",
       "      <td>0</td>\n",
       "      <td>0</td>\n",
       "      <td>0</td>\n",
       "      <td>0</td>\n",
       "      <td>0</td>\n",
       "      <td>0</td>\n",
       "      <td>0</td>\n",
       "      <td>0</td>\n",
       "      <td>0</td>\n",
       "    </tr>\n",
       "  </tbody>\n",
       "</table>\n",
       "<p>2 rows × 26 columns</p>\n",
       "</div>"
      ],
      "text/plain": [
       "   LotArea  FullBath  BedroomAbvGr  SalePrice  House_Storys  Blmngtn  BrDale  \\\n",
       "0     3010         2             2     167240             1        1       0   \n",
       "1     3182         2             2     192500             1        1       0   \n",
       "\n",
       "   BrkSide  ClearCr  CollgCr  ...  NWAmes  NoRidge  NridgHt  OldTown  SWISU  \\\n",
       "0        0        0        0  ...       0        0        0        0      0   \n",
       "1        0        0        0  ...       0        0        0        0      0   \n",
       "\n",
       "   Sawyer  SawyerW  Somerst  StoneBr  Timber  \n",
       "0       0        0        0        0       0  \n",
       "1       0        0        0        0       0  \n",
       "\n",
       "[2 rows x 26 columns]"
      ]
     },
     "execution_count": 53,
     "metadata": {},
     "output_type": "execute_result"
    }
   ],
   "source": [
    "df5=df4.drop([\"Neighborhood\",\"price_per_sqft\"],axis=\"columns\")\n",
    "df5.head(2)"
   ]
  },
  {
   "cell_type": "code",
   "execution_count": 54,
   "id": "3a9dd299",
   "metadata": {},
   "outputs": [
    {
     "data": {
      "text/plain": [
       "array([1, 2])"
      ]
     },
     "execution_count": 54,
     "metadata": {},
     "output_type": "execute_result"
    }
   ],
   "source": [
    "df5.House_Storys.unique()"
   ]
  },
  {
   "cell_type": "code",
   "execution_count": 55,
   "id": "3ae4709c",
   "metadata": {},
   "outputs": [
    {
     "data": {
      "text/html": [
       "<div>\n",
       "<style scoped>\n",
       "    .dataframe tbody tr th:only-of-type {\n",
       "        vertical-align: middle;\n",
       "    }\n",
       "\n",
       "    .dataframe tbody tr th {\n",
       "        vertical-align: top;\n",
       "    }\n",
       "\n",
       "    .dataframe thead th {\n",
       "        text-align: right;\n",
       "    }\n",
       "</style>\n",
       "<table border=\"1\" class=\"dataframe\">\n",
       "  <thead>\n",
       "    <tr style=\"text-align: right;\">\n",
       "      <th></th>\n",
       "      <th>LotArea</th>\n",
       "      <th>FullBath</th>\n",
       "      <th>BedroomAbvGr</th>\n",
       "      <th>House_Storys</th>\n",
       "      <th>Blmngtn</th>\n",
       "      <th>BrDale</th>\n",
       "      <th>BrkSide</th>\n",
       "      <th>ClearCr</th>\n",
       "      <th>CollgCr</th>\n",
       "      <th>Crawfor</th>\n",
       "      <th>...</th>\n",
       "      <th>NWAmes</th>\n",
       "      <th>NoRidge</th>\n",
       "      <th>NridgHt</th>\n",
       "      <th>OldTown</th>\n",
       "      <th>SWISU</th>\n",
       "      <th>Sawyer</th>\n",
       "      <th>SawyerW</th>\n",
       "      <th>Somerst</th>\n",
       "      <th>StoneBr</th>\n",
       "      <th>Timber</th>\n",
       "    </tr>\n",
       "  </thead>\n",
       "  <tbody>\n",
       "    <tr>\n",
       "      <th>0</th>\n",
       "      <td>3010</td>\n",
       "      <td>2</td>\n",
       "      <td>2</td>\n",
       "      <td>1</td>\n",
       "      <td>1</td>\n",
       "      <td>0</td>\n",
       "      <td>0</td>\n",
       "      <td>0</td>\n",
       "      <td>0</td>\n",
       "      <td>0</td>\n",
       "      <td>...</td>\n",
       "      <td>0</td>\n",
       "      <td>0</td>\n",
       "      <td>0</td>\n",
       "      <td>0</td>\n",
       "      <td>0</td>\n",
       "      <td>0</td>\n",
       "      <td>0</td>\n",
       "      <td>0</td>\n",
       "      <td>0</td>\n",
       "      <td>0</td>\n",
       "    </tr>\n",
       "    <tr>\n",
       "      <th>1</th>\n",
       "      <td>3182</td>\n",
       "      <td>2</td>\n",
       "      <td>2</td>\n",
       "      <td>1</td>\n",
       "      <td>1</td>\n",
       "      <td>0</td>\n",
       "      <td>0</td>\n",
       "      <td>0</td>\n",
       "      <td>0</td>\n",
       "      <td>0</td>\n",
       "      <td>...</td>\n",
       "      <td>0</td>\n",
       "      <td>0</td>\n",
       "      <td>0</td>\n",
       "      <td>0</td>\n",
       "      <td>0</td>\n",
       "      <td>0</td>\n",
       "      <td>0</td>\n",
       "      <td>0</td>\n",
       "      <td>0</td>\n",
       "      <td>0</td>\n",
       "    </tr>\n",
       "    <tr>\n",
       "      <th>2</th>\n",
       "      <td>3182</td>\n",
       "      <td>2</td>\n",
       "      <td>2</td>\n",
       "      <td>1</td>\n",
       "      <td>1</td>\n",
       "      <td>0</td>\n",
       "      <td>0</td>\n",
       "      <td>0</td>\n",
       "      <td>0</td>\n",
       "      <td>0</td>\n",
       "      <td>...</td>\n",
       "      <td>0</td>\n",
       "      <td>0</td>\n",
       "      <td>0</td>\n",
       "      <td>0</td>\n",
       "      <td>0</td>\n",
       "      <td>0</td>\n",
       "      <td>0</td>\n",
       "      <td>0</td>\n",
       "      <td>0</td>\n",
       "      <td>0</td>\n",
       "    </tr>\n",
       "    <tr>\n",
       "      <th>3</th>\n",
       "      <td>3072</td>\n",
       "      <td>2</td>\n",
       "      <td>2</td>\n",
       "      <td>1</td>\n",
       "      <td>1</td>\n",
       "      <td>0</td>\n",
       "      <td>0</td>\n",
       "      <td>0</td>\n",
       "      <td>0</td>\n",
       "      <td>0</td>\n",
       "      <td>...</td>\n",
       "      <td>0</td>\n",
       "      <td>0</td>\n",
       "      <td>0</td>\n",
       "      <td>0</td>\n",
       "      <td>0</td>\n",
       "      <td>0</td>\n",
       "      <td>0</td>\n",
       "      <td>0</td>\n",
       "      <td>0</td>\n",
       "      <td>0</td>\n",
       "    </tr>\n",
       "    <tr>\n",
       "      <th>4</th>\n",
       "      <td>3922</td>\n",
       "      <td>0</td>\n",
       "      <td>2</td>\n",
       "      <td>1</td>\n",
       "      <td>1</td>\n",
       "      <td>0</td>\n",
       "      <td>0</td>\n",
       "      <td>0</td>\n",
       "      <td>0</td>\n",
       "      <td>0</td>\n",
       "      <td>...</td>\n",
       "      <td>0</td>\n",
       "      <td>0</td>\n",
       "      <td>0</td>\n",
       "      <td>0</td>\n",
       "      <td>0</td>\n",
       "      <td>0</td>\n",
       "      <td>0</td>\n",
       "      <td>0</td>\n",
       "      <td>0</td>\n",
       "      <td>0</td>\n",
       "    </tr>\n",
       "  </tbody>\n",
       "</table>\n",
       "<p>5 rows × 25 columns</p>\n",
       "</div>"
      ],
      "text/plain": [
       "   LotArea  FullBath  BedroomAbvGr  House_Storys  Blmngtn  BrDale  BrkSide  \\\n",
       "0     3010         2             2             1        1       0        0   \n",
       "1     3182         2             2             1        1       0        0   \n",
       "2     3182         2             2             1        1       0        0   \n",
       "3     3072         2             2             1        1       0        0   \n",
       "4     3922         0             2             1        1       0        0   \n",
       "\n",
       "   ClearCr  CollgCr  Crawfor  ...  NWAmes  NoRidge  NridgHt  OldTown  SWISU  \\\n",
       "0        0        0        0  ...       0        0        0        0      0   \n",
       "1        0        0        0  ...       0        0        0        0      0   \n",
       "2        0        0        0  ...       0        0        0        0      0   \n",
       "3        0        0        0  ...       0        0        0        0      0   \n",
       "4        0        0        0  ...       0        0        0        0      0   \n",
       "\n",
       "   Sawyer  SawyerW  Somerst  StoneBr  Timber  \n",
       "0       0        0        0        0       0  \n",
       "1       0        0        0        0       0  \n",
       "2       0        0        0        0       0  \n",
       "3       0        0        0        0       0  \n",
       "4       0        0        0        0       0  \n",
       "\n",
       "[5 rows x 25 columns]"
      ]
     },
     "execution_count": 55,
     "metadata": {},
     "output_type": "execute_result"
    }
   ],
   "source": [
    "x = df5.drop(\"SalePrice\",axis=\"columns\")\n",
    "x.head()"
   ]
  },
  {
   "cell_type": "code",
   "execution_count": 56,
   "id": "dbee456b",
   "metadata": {},
   "outputs": [
    {
     "data": {
      "text/plain": [
       "0    167240\n",
       "1    192500\n",
       "2    192000\n",
       "3    178740\n",
       "4    194201\n",
       "Name: SalePrice, dtype: int64"
      ]
     },
     "execution_count": 56,
     "metadata": {},
     "output_type": "execute_result"
    }
   ],
   "source": [
    "y=df5.SalePrice\n",
    "y.head()"
   ]
  },
  {
   "cell_type": "code",
   "execution_count": 57,
   "id": "f0c94e70",
   "metadata": {},
   "outputs": [],
   "source": [
    "from sklearn.model_selection import train_test_split\n",
    "X_train, X_test,y_train,y_test=train_test_split(x,y,test_size=0.2,random_state=10)"
   ]
  },
  {
   "cell_type": "code",
   "execution_count": 58,
   "id": "850353ac",
   "metadata": {},
   "outputs": [
    {
     "data": {
      "text/plain": [
       "0.6973062391186158"
      ]
     },
     "execution_count": 58,
     "metadata": {},
     "output_type": "execute_result"
    }
   ],
   "source": [
    "from sklearn.linear_model import LinearRegression\n",
    "lr_clf=LinearRegression()\n",
    "lr_clf.fit(X_train,y_train)\n",
    "lr_clf.score(X_test,y_test)"
   ]
  },
  {
   "cell_type": "code",
   "execution_count": 59,
   "id": "e72345ee",
   "metadata": {},
   "outputs": [
    {
     "data": {
      "text/plain": [
       "array([0.66421532, 0.63169704, 0.70025537, 0.38141781, 0.68622901])"
      ]
     },
     "execution_count": 59,
     "metadata": {},
     "output_type": "execute_result"
    }
   ],
   "source": [
    "from sklearn.model_selection import ShuffleSplit\n",
    "from sklearn.model_selection import cross_val_score\n",
    "cv=ShuffleSplit(n_splits=5,test_size=0.2,random_state=0)\n",
    "cross_val_score(LinearRegression(),x,y,cv=cv)"
   ]
  },
  {
   "cell_type": "code",
   "execution_count": 60,
   "id": "4d4afe8f",
   "metadata": {},
   "outputs": [],
   "source": [
    "from sklearn.model_selection import GridSearchCV\n",
    "from sklearn.linear_model import Lasso\n",
    "from sklearn.tree import DecisionTreeRegressor"
   ]
  },
  {
   "cell_type": "code",
   "execution_count": 61,
   "id": "e039c58a",
   "metadata": {},
   "outputs": [],
   "source": [
    "def find_best_model_using_gridsearchCV(x,y):\n",
    "    algos={\n",
    "        \"linear_regression\":{\n",
    "            \"model\":LinearRegression(),\n",
    "            \"params\":{\n",
    "            }\n",
    "        },\n",
    "        \"lasso\":{\n",
    "            \"model\":Lasso(),\n",
    "            \"params\": {\n",
    "                \"alpha\":[1,2],\n",
    "                \"selection\":[\"random\",\"cyclic\"]\n",
    "            }\n",
    "        },\n",
    "        \"decision_tree\":{\n",
    "            \"model\":DecisionTreeRegressor(),\n",
    "            \"params\":{\n",
    "                \"criterion\":[\"friedman_mse\"],\n",
    "                \"splitter\":[\"best\",\"random\"]\n",
    "            }\n",
    "        }\n",
    "    }\n",
    "    scores=[]\n",
    "    cv=ShuffleSplit(n_splits=5,test_size=0.2,random_state=0)\n",
    "    for algo_name,config in algos.items():\n",
    "        gs=GridSearchCV(config[\"model\"],config[\"params\"],cv=cv,return_train_score=False)\n",
    "        gs.fit(x,y)\n",
    "        scores.append({\n",
    "            \"model\":algo_name,\n",
    "            \"best_score\":gs.best_score_,\n",
    "            \"best_params\":gs.best_params_\n",
    "            \n",
    "        })\n",
    "    \n",
    "    return pd.DataFrame(scores,columns=[\"model\",\"best_score\",\"best_params\"])"
   ]
  },
  {
   "cell_type": "code",
   "execution_count": 62,
   "id": "f6c1bb47",
   "metadata": {
    "scrolled": true
   },
   "outputs": [
    {
     "data": {
      "text/html": [
       "<div>\n",
       "<style scoped>\n",
       "    .dataframe tbody tr th:only-of-type {\n",
       "        vertical-align: middle;\n",
       "    }\n",
       "\n",
       "    .dataframe tbody tr th {\n",
       "        vertical-align: top;\n",
       "    }\n",
       "\n",
       "    .dataframe thead th {\n",
       "        text-align: right;\n",
       "    }\n",
       "</style>\n",
       "<table border=\"1\" class=\"dataframe\">\n",
       "  <thead>\n",
       "    <tr style=\"text-align: right;\">\n",
       "      <th></th>\n",
       "      <th>model</th>\n",
       "      <th>best_score</th>\n",
       "      <th>best_params</th>\n",
       "    </tr>\n",
       "  </thead>\n",
       "  <tbody>\n",
       "    <tr>\n",
       "      <th>0</th>\n",
       "      <td>linear_regression</td>\n",
       "      <td>0.612763</td>\n",
       "      <td>{}</td>\n",
       "    </tr>\n",
       "    <tr>\n",
       "      <th>1</th>\n",
       "      <td>lasso</td>\n",
       "      <td>0.612806</td>\n",
       "      <td>{'alpha': 2, 'selection': 'cyclic'}</td>\n",
       "    </tr>\n",
       "    <tr>\n",
       "      <th>2</th>\n",
       "      <td>decision_tree</td>\n",
       "      <td>0.603387</td>\n",
       "      <td>{'criterion': 'friedman_mse', 'splitter': 'best'}</td>\n",
       "    </tr>\n",
       "  </tbody>\n",
       "</table>\n",
       "</div>"
      ],
      "text/plain": [
       "               model  best_score  \\\n",
       "0  linear_regression    0.612763   \n",
       "1              lasso    0.612806   \n",
       "2      decision_tree    0.603387   \n",
       "\n",
       "                                         best_params  \n",
       "0                                                 {}  \n",
       "1                {'alpha': 2, 'selection': 'cyclic'}  \n",
       "2  {'criterion': 'friedman_mse', 'splitter': 'best'}  "
      ]
     },
     "execution_count": 62,
     "metadata": {},
     "output_type": "execute_result"
    }
   ],
   "source": [
    "find_best_model_using_gridsearchCV(x,y)"
   ]
  },
  {
   "cell_type": "code",
   "execution_count": 68,
   "id": "da2bce5f",
   "metadata": {
    "scrolled": true
   },
   "outputs": [
    {
     "data": {
      "text/plain": [
       "Index(['LotArea', 'FullBath', 'BedroomAbvGr', 'House_Storys', 'Blmngtn',\n",
       "       'BrDale', 'BrkSide', 'ClearCr', 'CollgCr', 'Crawfor', 'Edwards',\n",
       "       'Gilbert', 'IDOTRR', 'Mitchel', 'NAmes', 'NWAmes', 'NoRidge', 'NridgHt',\n",
       "       'OldTown', 'SWISU', 'Sawyer', 'SawyerW', 'Somerst', 'StoneBr',\n",
       "       'Timber'],\n",
       "      dtype='object')"
      ]
     },
     "execution_count": 68,
     "metadata": {},
     "output_type": "execute_result"
    }
   ],
   "source": [
    "x.columns"
   ]
  },
  {
   "cell_type": "code",
   "execution_count": 104,
   "id": "a535ad5b",
   "metadata": {},
   "outputs": [],
   "source": [
    "def predict_price(location,sqft,bath,bhk,story):\n",
    "    loc_index=np.where(x.columns==location)[0][0]\n",
    "    \n",
    "    X=np.zeros(len(x.columns))\n",
    "    X[0]=sqft\n",
    "    X[1]=bath\n",
    "    X[2]=bhk\n",
    "    X[3]=story\n",
    "    if loc_index>=0:\n",
    "        X[loc_index]=1\n",
    "    \n",
    "    return lr_clf.predict([X])[0]\n",
    "    "
   ]
  },
  {
   "cell_type": "code",
   "execution_count": 105,
   "id": "ab4025e5",
   "metadata": {},
   "outputs": [
    {
     "data": {
      "text/plain": [
       "(709, 25)"
      ]
     },
     "execution_count": 105,
     "metadata": {},
     "output_type": "execute_result"
    }
   ],
   "source": [
    "x.shape"
   ]
  },
  {
   "cell_type": "code",
   "execution_count": 106,
   "id": "65862fc7",
   "metadata": {},
   "outputs": [
    {
     "data": {
      "text/plain": [
       "(709,)"
      ]
     },
     "execution_count": 106,
     "metadata": {},
     "output_type": "execute_result"
    }
   ],
   "source": [
    "y.shape"
   ]
  },
  {
   "cell_type": "code",
   "execution_count": 107,
   "id": "13655a14",
   "metadata": {},
   "outputs": [
    {
     "name": "stderr",
     "output_type": "stream",
     "text": [
      "C:\\anaconda\\lib\\site-packages\\sklearn\\base.py:450: UserWarning: X does not have valid feature names, but LinearRegression was fitted with feature names\n",
      "  warnings.warn(\n"
     ]
    },
    {
     "data": {
      "text/plain": [
       "93989.39085068365"
      ]
     },
     "execution_count": 107,
     "metadata": {},
     "output_type": "execute_result"
    }
   ],
   "source": [
    "predict_price(\"BrkSide\",1000,1,1,1)"
   ]
  },
  {
   "cell_type": "code",
   "execution_count": 108,
   "id": "96d69283",
   "metadata": {},
   "outputs": [
    {
     "name": "stderr",
     "output_type": "stream",
     "text": [
      "C:\\anaconda\\lib\\site-packages\\sklearn\\base.py:450: UserWarning: X does not have valid feature names, but LinearRegression was fitted with feature names\n",
      "  warnings.warn(\n"
     ]
    },
    {
     "data": {
      "text/plain": [
       "96337.01492104605"
      ]
     },
     "execution_count": 108,
     "metadata": {},
     "output_type": "execute_result"
    }
   ],
   "source": [
    "predict_price(\"BrkSide\",2000,1,1,1)"
   ]
  },
  {
   "cell_type": "code",
   "execution_count": null,
   "id": "ffe05c81",
   "metadata": {},
   "outputs": [],
   "source": []
  }
 ],
 "metadata": {
  "kernelspec": {
   "display_name": "Python 3 (ipykernel)",
   "language": "python",
   "name": "python3"
  },
  "language_info": {
   "codemirror_mode": {
    "name": "ipython",
    "version": 3
   },
   "file_extension": ".py",
   "mimetype": "text/x-python",
   "name": "python",
   "nbconvert_exporter": "python",
   "pygments_lexer": "ipython3",
   "version": "3.9.12"
  }
 },
 "nbformat": 4,
 "nbformat_minor": 5
}
